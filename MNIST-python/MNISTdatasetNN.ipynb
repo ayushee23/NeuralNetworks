{
 "cells": [
  {
   "cell_type": "code",
   "execution_count": 38,
   "metadata": {
    "collapsed": true
   },
   "outputs": [],
   "source": [
    "import _pickle as cPickle\n",
    "import gzip\n",
    "import numpy as np\n",
    "\n",
    "#function for loading the training, validation and testing data\n",
    "def load_data():\n",
    "    f = gzip.open('mnist.pkl.gz', 'rb')\n",
    "    training_data, validation_data, test_data = cPickle.load(f, encoding='latin1')\n",
    "    f.close()\n",
    "    return (training_data, validation_data, test_data)\n",
    "\n",
    "#function for modifying the format of train, validation and test data\n",
    "def load_data_wrapper():\n",
    "    tr_d, va_d, te_d = load_data()\n",
    "    training_inputs = [np.reshape(x, (784, 1)) for x in tr_d[0]]#reshaping the training input\n",
    "    training_results = [vectorized_result(y) for y in tr_d[1]]#converting output labels to one-hot encoding\n",
    "    training_data = list(zip(training_inputs, training_results))\n",
    "    validation_inputs = [np.reshape(x, (784, 1)) for x in va_d[0]]#reshaping the validation input\n",
    "    validation_data = list(zip(validation_inputs, va_d[1]))\n",
    "    test_inputs = [np.reshape(x, (784, 1)) for x in te_d[0]]#reshaping the test input\n",
    "    test_data = list(zip(test_inputs, te_d[1]))\n",
    "    return (training_data, validation_data, test_data)\n",
    "\n",
    "#function to convert labels to one-hot encoding\n",
    "def vectorized_result(j):\n",
    "    e = np.zeros((10, 1))\n",
    "    e[j] = 1.0\n",
    "    return e"
   ]
  },
  {
   "cell_type": "code",
   "execution_count": 39,
   "metadata": {},
   "outputs": [],
   "source": [
    "training_data, validation_data, test_data = \\\n",
    "load_data_wrapper()"
   ]
  },
  {
   "cell_type": "code",
   "execution_count": 57,
   "metadata": {},
   "outputs": [],
   "source": [
    "import random\n",
    "import numpy as np\n",
    "\n",
    "class Network(object):\n",
    "\n",
    "    def __init__(self, sizes):\n",
    "        \n",
    "        self.num_layers = len(sizes)\n",
    "        self.sizes = sizes\n",
    "        #randomly taking biases for all the layers except input layer since input layer as no bias\n",
    "        #as no computations are being done there\n",
    "        self.biases = [np.random.randn(y, 1) for y in sizes[1:]] \n",
    "        #randomly taking values for weights matrix from weights from one layer to the next\n",
    "        self.weights = [np.random.randn(y, x)\n",
    "                        for x, y in zip(sizes[:-1], sizes[1:])]\n",
    "\n",
    " #this function calculates the sigmoid value of activation        \n",
    "    def feedforward(self, a):\n",
    "        \"\"\"Return the output of the network if ``a`` is input.\"\"\"\n",
    "        for b, w in zip(self.biases, self.weights):\n",
    "            a = sigmoid(np.dot(w, a)+b)\n",
    "        return a\n",
    "\n",
    "#function for training the neural network using stochastic gradient descent    \n",
    "    def SGD(self, training_data, epochs, mini_batch_size, eta,\n",
    "            test_data=None):\n",
    "        \n",
    "        if test_data: n_test = len(test_data) #storing length of test data in n_test\n",
    "        n = len(training_data)\n",
    "        for j in range(epochs):\n",
    "            random.shuffle(training_data)#shuffling the training data\n",
    "            #dividing the training data into batches according to the batch size given\n",
    "            mini_batches = [\n",
    "                training_data[k:k+mini_batch_size]\n",
    "                for k in range(0, n, mini_batch_size)]\n",
    "            \n",
    "            for mini_batch in mini_batches:\n",
    "                self.update_mini_batch(mini_batch, eta)#this function will update the weights to minimize error\n",
    "            if test_data:\n",
    "                print (\"Epoch {0}: {1} / {2}\".format(\n",
    "                    j, self.evaluate(test_data), n_test))\n",
    "            else:\n",
    "                print (\"Epoch {0} complete\".format(j))\n",
    "\n",
    "#function to update the weights using gradient descent(eta is the learning rate)\n",
    "\n",
    "    def update_mini_batch(self, mini_batch, eta):\n",
    "        nabla_b = [np.zeros(b.shape) for b in self.biases]#for each layer except input layer creates a list of zero-arrays of biases\n",
    "        nabla_w = [np.zeros(w.shape) for w in self.weights]\n",
    "        for x, y in mini_batch:\n",
    "            delta_nabla_b, delta_nabla_w = self.backprop(x, y)#gives gradient\n",
    "            nabla_b = [nb+dnb for nb, dnb in zip(nabla_b, delta_nabla_b)]\n",
    "            nabla_w = [nw+dnw for nw, dnw in zip(nabla_w, delta_nabla_w)]\n",
    "        self.weights = [w-(eta/len(mini_batch))*nw\n",
    "                        for w, nw in zip(self.weights, nabla_w)]\n",
    "        self.biases = [b-(eta/len(mini_batch))*nb\n",
    "                       for b, nb in zip(self.biases, nabla_b)]\n",
    "\n",
    "    def backprop(self, x, y):\n",
    "        \"\"\"Return a tuple ``(nabla_b, nabla_w)`` representing the\n",
    "        gradient for the cost function C_x.  ``nabla_b`` and\n",
    "        ``nabla_w`` are layer-by-layer lists of numpy arrays, similar\n",
    "        to ``self.biases`` and ``self.weights``.\"\"\"\n",
    "        nabla_b = [np.zeros(b.shape) for b in self.biases]\n",
    "        nabla_w = [np.zeros(w.shape) for w in self.weights]\n",
    "        # feedforward\n",
    "        activation = x\n",
    "        activations = [x] # list to store all the activations, layer by layer\n",
    "        zs = [] # list to store all the z vectors, layer by layer\n",
    "        for b, w in zip(self.biases, self.weights):\n",
    "            z = np.dot(w, activation)+b\n",
    "            zs.append(z)\n",
    "            activation = sigmoid(z)\n",
    "            activations.append(activation)\n",
    "        # backward pass\n",
    "        delta = self.cost_derivative(activations[-1], y) * \\\n",
    "            sigmoid_prime(zs[-1])\n",
    "        nabla_b[-1] = delta\n",
    "        nabla_w[-1] = np.dot(delta, activations[-2].transpose())\n",
    "        # Note that the variable l in the loop below is used a little\n",
    "        # differently to the notation in Chapter 2 of the book.  Here,\n",
    "        # l = 1 means the last layer of neurons, l = 2 is the\n",
    "        # second-last layer, and so on.  It's a renumbering of the\n",
    "        # scheme in the book, used here to take advantage of the fact\n",
    "        # that Python can use negative indices in lists.\n",
    "        for l in range(2, self.num_layers):\n",
    "            z = zs[-l]\n",
    "            sp = sigmoid_prime(z)\n",
    "            delta = np.dot(self.weights[-l+1].transpose(), delta) * sp\n",
    "            nabla_b[-l] = delta\n",
    "            nabla_w[-l] = np.dot(delta, activations[-l-1].transpose())\n",
    "        return (nabla_b, nabla_w)\n",
    "\n",
    "    def evaluate(self, test_data):\n",
    "        \"\"\"Return the number of test inputs for which the neural\n",
    "        network outputs the correct result. Note that the neural\n",
    "        network's output is assumed to be the index of whichever\n",
    "        neuron in the final layer has the highest activation.\"\"\"\n",
    "        test_results = [(np.argmax(self.feedforward(x)), y)\n",
    "                        for (x, y) in test_data]\n",
    "        return sum(int(x == y) for (x, y) in test_results)#calculates the number of inputs for which predicted=observed\n",
    "\n",
    "    def cost_derivative(self, output_activations, y):\n",
    "        \"\"\"Return the vector of partial derivatives \\partial C_x /\n",
    "        \\partial a for the output activations.\"\"\"\n",
    "        return (output_activations-y)\n",
    "\n",
    "#### Miscellaneous functions\n",
    "\n",
    "#implements sigmoid function\n",
    "def sigmoid(z):\n",
    "    return 1.0/(1.0+np.exp(-z))\n",
    "#finds derivative of the sigmoid function\n",
    "def sigmoid_prime(z):\n",
    "    return sigmoid(z)*(1-sigmoid(z))"
   ]
  },
  {
   "cell_type": "markdown",
   "metadata": {},
   "source": [
    "## neural network with 784 units in input layer, 30 in hidden and 10 in output layer"
   ]
  },
  {
   "cell_type": "code",
   "execution_count": 47,
   "metadata": {},
   "outputs": [],
   "source": [
    "net =Network([784, 30, 10])"
   ]
  },
  {
   "cell_type": "code",
   "execution_count": 48,
   "metadata": {},
   "outputs": [
    {
     "name": "stdout",
     "output_type": "stream",
     "text": [
      "Epoch 0: 9039 / 10000\n",
      "Epoch 1: 9194 / 10000\n",
      "Epoch 2: 9346 / 10000\n",
      "Epoch 3: 9325 / 10000\n",
      "Epoch 4: 9375 / 10000\n",
      "Epoch 5: 9370 / 10000\n",
      "Epoch 6: 9390 / 10000\n",
      "Epoch 7: 9392 / 10000\n",
      "Epoch 8: 9411 / 10000\n",
      "Epoch 9: 9456 / 10000\n",
      "Epoch 10: 9397 / 10000\n",
      "Epoch 11: 9445 / 10000\n",
      "Epoch 12: 9458 / 10000\n",
      "Epoch 13: 9441 / 10000\n",
      "Epoch 14: 9430 / 10000\n",
      "Epoch 15: 9460 / 10000\n",
      "Epoch 16: 9482 / 10000\n",
      "Epoch 17: 9467 / 10000\n",
      "Epoch 18: 9489 / 10000\n",
      "Epoch 19: 9466 / 10000\n",
      "Epoch 20: 9463 / 10000\n",
      "Epoch 21: 9484 / 10000\n",
      "Epoch 22: 9490 / 10000\n",
      "Epoch 23: 9473 / 10000\n",
      "Epoch 24: 9471 / 10000\n",
      "Epoch 25: 9480 / 10000\n",
      "Epoch 26: 9466 / 10000\n",
      "Epoch 27: 9468 / 10000\n",
      "Epoch 28: 9490 / 10000\n",
      "Epoch 29: 9480 / 10000\n"
     ]
    }
   ],
   "source": [
    "net.SGD(training_data, 30, 10, 3.0, test_data=test_data)   #epochs = 30, batch size = 10 and learning rate = 3 "
   ]
  },
  {
   "cell_type": "markdown",
   "metadata": {},
   "source": [
    "## neural network with 784 units in input layer, 40 in hidden and 10 in output layer\n",
    "### improved performance when units in hidden layer = 40"
   ]
  },
  {
   "cell_type": "code",
   "execution_count": 53,
   "metadata": {
    "collapsed": true
   },
   "outputs": [],
   "source": [
    "net1 =Network([784, 40, 10])"
   ]
  },
  {
   "cell_type": "code",
   "execution_count": 54,
   "metadata": {},
   "outputs": [
    {
     "name": "stdout",
     "output_type": "stream",
     "text": [
      "Epoch 0: 8237 / 10000\n",
      "Epoch 1: 8416 / 10000\n",
      "Epoch 2: 9349 / 10000\n",
      "Epoch 3: 9422 / 10000\n",
      "Epoch 4: 9426 / 10000\n",
      "Epoch 5: 9427 / 10000\n",
      "Epoch 6: 9444 / 10000\n",
      "Epoch 7: 9487 / 10000\n",
      "Epoch 8: 9481 / 10000\n",
      "Epoch 9: 9492 / 10000\n",
      "Epoch 10: 9497 / 10000\n",
      "Epoch 11: 9518 / 10000\n",
      "Epoch 12: 9515 / 10000\n",
      "Epoch 13: 9520 / 10000\n",
      "Epoch 14: 9528 / 10000\n",
      "Epoch 15: 9536 / 10000\n",
      "Epoch 16: 9523 / 10000\n",
      "Epoch 17: 9541 / 10000\n",
      "Epoch 18: 9543 / 10000\n",
      "Epoch 19: 9532 / 10000\n",
      "Epoch 20: 9528 / 10000\n",
      "Epoch 21: 9543 / 10000\n",
      "Epoch 22: 9550 / 10000\n",
      "Epoch 23: 9553 / 10000\n",
      "Epoch 24: 9556 / 10000\n",
      "Epoch 25: 9537 / 10000\n",
      "Epoch 26: 9566 / 10000\n",
      "Epoch 27: 9553 / 10000\n",
      "Epoch 28: 9570 / 10000\n",
      "Epoch 29: 9568 / 10000\n"
     ]
    }
   ],
   "source": [
    "net1.SGD(training_data, 30, 10, 3.0, test_data=test_data)#epochs = 30, batch size = 10 and learning rate = 3"
   ]
  },
  {
   "cell_type": "markdown",
   "metadata": {},
   "source": [
    "## neural network with 784 units in input layer, 20 in hidden and 10 in output layer\n",
    "### reduced performance when units in hidden layer = 20 "
   ]
  },
  {
   "cell_type": "code",
   "execution_count": 55,
   "metadata": {},
   "outputs": [
    {
     "name": "stdout",
     "output_type": "stream",
     "text": [
      "Epoch 0: 9008 / 10000\n",
      "Epoch 1: 9157 / 10000\n",
      "Epoch 2: 9209 / 10000\n",
      "Epoch 3: 9238 / 10000\n",
      "Epoch 4: 9288 / 10000\n",
      "Epoch 5: 9257 / 10000\n",
      "Epoch 6: 9303 / 10000\n",
      "Epoch 7: 9350 / 10000\n",
      "Epoch 8: 9363 / 10000\n",
      "Epoch 9: 9314 / 10000\n",
      "Epoch 10: 9337 / 10000\n",
      "Epoch 11: 9367 / 10000\n",
      "Epoch 12: 9346 / 10000\n",
      "Epoch 13: 9379 / 10000\n",
      "Epoch 14: 9364 / 10000\n",
      "Epoch 15: 9358 / 10000\n",
      "Epoch 16: 9352 / 10000\n",
      "Epoch 17: 9362 / 10000\n",
      "Epoch 18: 9367 / 10000\n",
      "Epoch 19: 9359 / 10000\n",
      "Epoch 20: 9393 / 10000\n",
      "Epoch 21: 9383 / 10000\n",
      "Epoch 22: 9387 / 10000\n",
      "Epoch 23: 9383 / 10000\n",
      "Epoch 24: 9361 / 10000\n",
      "Epoch 25: 9352 / 10000\n",
      "Epoch 26: 9364 / 10000\n",
      "Epoch 27: 9387 / 10000\n",
      "Epoch 28: 9360 / 10000\n",
      "Epoch 29: 9372 / 10000\n"
     ]
    }
   ],
   "source": [
    "net2 =Network([784, 20, 10])\n",
    "net2.SGD(training_data, 30, 10, 3.0, test_data=test_data)"
   ]
  },
  {
   "cell_type": "markdown",
   "metadata": {},
   "source": [
    "## neural network with 784 units in input layer, 60 in hidden and 10 in output layer\n",
    "### bad performance when units in hidden layer increased further "
   ]
  },
  {
   "cell_type": "code",
   "execution_count": 56,
   "metadata": {},
   "outputs": [
    {
     "name": "stdout",
     "output_type": "stream",
     "text": [
      "Epoch 0: 7459 / 10000\n",
      "Epoch 1: 7588 / 10000\n",
      "Epoch 2: 8381 / 10000\n",
      "Epoch 3: 8491 / 10000\n",
      "Epoch 4: 8547 / 10000\n",
      "Epoch 5: 8558 / 10000\n",
      "Epoch 6: 8561 / 10000\n",
      "Epoch 7: 8562 / 10000\n",
      "Epoch 8: 8590 / 10000\n",
      "Epoch 9: 8597 / 10000\n",
      "Epoch 10: 8626 / 10000\n",
      "Epoch 11: 8594 / 10000\n",
      "Epoch 12: 8604 / 10000\n",
      "Epoch 13: 8641 / 10000\n",
      "Epoch 14: 8632 / 10000\n",
      "Epoch 15: 8626 / 10000\n",
      "Epoch 16: 8627 / 10000\n",
      "Epoch 17: 8639 / 10000\n",
      "Epoch 18: 8643 / 10000\n",
      "Epoch 19: 8643 / 10000\n",
      "Epoch 20: 8634 / 10000\n",
      "Epoch 21: 8650 / 10000\n",
      "Epoch 22: 8650 / 10000\n",
      "Epoch 23: 8662 / 10000\n",
      "Epoch 24: 8656 / 10000\n",
      "Epoch 25: 8647 / 10000\n",
      "Epoch 26: 8660 / 10000\n",
      "Epoch 27: 8659 / 10000\n",
      "Epoch 28: 8647 / 10000\n",
      "Epoch 29: 8664 / 10000\n"
     ]
    }
   ],
   "source": [
    "net3 =Network([784, 60, 10])\n",
    "net3.SGD(training_data, 30, 10, 3.0, test_data=test_data)#epochs = 30, batch size = 10 and learning rate = 3"
   ]
  },
  {
   "cell_type": "markdown",
   "metadata": {},
   "source": [
    "## neural network with 784 units in input layer, 40 in hidden and 10 in output layer\n",
    "### reduced performance when units in hidden layer = 40 but learning rate = 5"
   ]
  },
  {
   "cell_type": "code",
   "execution_count": 58,
   "metadata": {},
   "outputs": [
    {
     "name": "stdout",
     "output_type": "stream",
     "text": [
      "Epoch 0: 7632 / 10000\n",
      "Epoch 1: 7742 / 10000\n",
      "Epoch 2: 8467 / 10000\n",
      "Epoch 3: 8510 / 10000\n",
      "Epoch 4: 8536 / 10000\n",
      "Epoch 5: 8572 / 10000\n",
      "Epoch 6: 8595 / 10000\n",
      "Epoch 7: 8601 / 10000\n",
      "Epoch 8: 8588 / 10000\n",
      "Epoch 9: 8639 / 10000\n",
      "Epoch 10: 8645 / 10000\n",
      "Epoch 11: 8615 / 10000\n",
      "Epoch 12: 8633 / 10000\n",
      "Epoch 13: 8629 / 10000\n",
      "Epoch 14: 8638 / 10000\n",
      "Epoch 15: 8630 / 10000\n",
      "Epoch 16: 8633 / 10000\n",
      "Epoch 17: 8659 / 10000\n",
      "Epoch 18: 8636 / 10000\n",
      "Epoch 19: 8634 / 10000\n",
      "Epoch 20: 8654 / 10000\n",
      "Epoch 21: 8632 / 10000\n",
      "Epoch 22: 8651 / 10000\n",
      "Epoch 23: 8658 / 10000\n",
      "Epoch 24: 8645 / 10000\n",
      "Epoch 25: 8632 / 10000\n",
      "Epoch 26: 8672 / 10000\n",
      "Epoch 27: 8672 / 10000\n",
      "Epoch 28: 8653 / 10000\n",
      "Epoch 29: 8661 / 10000\n"
     ]
    }
   ],
   "source": [
    "net4 =Network([784, 40, 10])\n",
    "net4.SGD(training_data, 30, 10, 5.0, test_data=test_data)#epochs = 30, batch size = 10 and learning rate = 5"
   ]
  },
  {
   "cell_type": "markdown",
   "metadata": {},
   "source": [
    "## neural network with 784 units in input layer, 40 in hidden and 10 in output layer\n",
    "### similar performance to the case when units in hidden layer = 40 and learning rate = 3"
   ]
  },
  {
   "cell_type": "code",
   "execution_count": 59,
   "metadata": {},
   "outputs": [
    {
     "name": "stdout",
     "output_type": "stream",
     "text": [
      "Epoch 0: 8091 / 10000\n",
      "Epoch 1: 9210 / 10000\n",
      "Epoch 2: 9302 / 10000\n",
      "Epoch 3: 9348 / 10000\n",
      "Epoch 4: 9386 / 10000\n",
      "Epoch 5: 9442 / 10000\n",
      "Epoch 6: 9459 / 10000\n",
      "Epoch 7: 9449 / 10000\n",
      "Epoch 8: 9458 / 10000\n",
      "Epoch 9: 9484 / 10000\n",
      "Epoch 10: 9478 / 10000\n",
      "Epoch 11: 9465 / 10000\n",
      "Epoch 12: 9464 / 10000\n",
      "Epoch 13: 9505 / 10000\n",
      "Epoch 14: 9490 / 10000\n",
      "Epoch 15: 9516 / 10000\n",
      "Epoch 16: 9498 / 10000\n",
      "Epoch 17: 9519 / 10000\n",
      "Epoch 18: 9524 / 10000\n",
      "Epoch 19: 9497 / 10000\n",
      "Epoch 20: 9519 / 10000\n",
      "Epoch 21: 9514 / 10000\n",
      "Epoch 22: 9515 / 10000\n",
      "Epoch 23: 9534 / 10000\n",
      "Epoch 24: 9526 / 10000\n",
      "Epoch 25: 9534 / 10000\n",
      "Epoch 26: 9547 / 10000\n",
      "Epoch 27: 9522 / 10000\n",
      "Epoch 28: 9516 / 10000\n",
      "Epoch 29: 9524 / 10000\n"
     ]
    }
   ],
   "source": [
    "net5 =Network([784, 40, 10])\n",
    "net5.SGD(training_data, 30, 10, 2.0, test_data=test_data)#epochs = 30, batch size = 10 and learning rate = 2"
   ]
  },
  {
   "cell_type": "markdown",
   "metadata": {},
   "source": [
    "## neural network with 784 units in input layer, 30 in hidden1, 30 in hidden layer2 and 10 in output layer\n",
    "### similar performance to the case when units in hidden layer1 = 40 and  no hidden layer2 "
   ]
  },
  {
   "cell_type": "code",
   "execution_count": 60,
   "metadata": {},
   "outputs": [
    {
     "name": "stdout",
     "output_type": "stream",
     "text": [
      "Epoch 0: 9132 / 10000\n",
      "Epoch 1: 9268 / 10000\n",
      "Epoch 2: 9270 / 10000\n",
      "Epoch 3: 9374 / 10000\n",
      "Epoch 4: 9395 / 10000\n",
      "Epoch 5: 9346 / 10000\n",
      "Epoch 6: 9424 / 10000\n",
      "Epoch 7: 9397 / 10000\n",
      "Epoch 8: 9442 / 10000\n",
      "Epoch 9: 9457 / 10000\n",
      "Epoch 10: 9497 / 10000\n",
      "Epoch 11: 9442 / 10000\n",
      "Epoch 12: 9480 / 10000\n",
      "Epoch 13: 9462 / 10000\n",
      "Epoch 14: 9464 / 10000\n",
      "Epoch 15: 9483 / 10000\n",
      "Epoch 16: 9445 / 10000\n",
      "Epoch 17: 9453 / 10000\n",
      "Epoch 18: 9502 / 10000\n",
      "Epoch 19: 9479 / 10000\n",
      "Epoch 20: 9499 / 10000\n",
      "Epoch 21: 9512 / 10000\n",
      "Epoch 22: 9524 / 10000\n",
      "Epoch 23: 9472 / 10000\n",
      "Epoch 24: 9522 / 10000\n",
      "Epoch 25: 9522 / 10000\n",
      "Epoch 26: 9490 / 10000\n",
      "Epoch 27: 9482 / 10000\n",
      "Epoch 28: 9522 / 10000\n",
      "Epoch 29: 9516 / 10000\n"
     ]
    }
   ],
   "source": [
    "net6 =Network([784, 30, 30,10])\n",
    "net6.SGD(training_data, 30, 10, 3.0, test_data=test_data)#epochs = 30, batch size = 10 and learning rate = 3"
   ]
  },
  {
   "cell_type": "markdown",
   "metadata": {},
   "source": [
    "## neural network with 784 units in input layer, 40 in hidden1, 40 in hidden layer2 and 10 in output layer\n",
    "### similar performance to the case when units in hidden layer1 = 40 and no hidden layer2"
   ]
  },
  {
   "cell_type": "code",
   "execution_count": 61,
   "metadata": {},
   "outputs": [
    {
     "name": "stdout",
     "output_type": "stream",
     "text": [
      "Epoch 0: 9151 / 10000\n",
      "Epoch 1: 9284 / 10000\n",
      "Epoch 2: 9296 / 10000\n",
      "Epoch 3: 9404 / 10000\n",
      "Epoch 4: 9429 / 10000\n",
      "Epoch 5: 9423 / 10000\n",
      "Epoch 6: 9372 / 10000\n",
      "Epoch 7: 9475 / 10000\n",
      "Epoch 8: 9464 / 10000\n",
      "Epoch 9: 9492 / 10000\n",
      "Epoch 10: 9488 / 10000\n",
      "Epoch 11: 9492 / 10000\n",
      "Epoch 12: 9471 / 10000\n",
      "Epoch 13: 9503 / 10000\n",
      "Epoch 14: 9486 / 10000\n",
      "Epoch 15: 9526 / 10000\n",
      "Epoch 16: 9510 / 10000\n",
      "Epoch 17: 9536 / 10000\n",
      "Epoch 18: 9535 / 10000\n",
      "Epoch 19: 9567 / 10000\n",
      "Epoch 20: 9539 / 10000\n",
      "Epoch 21: 9543 / 10000\n",
      "Epoch 22: 9552 / 10000\n",
      "Epoch 23: 9532 / 10000\n",
      "Epoch 24: 9512 / 10000\n",
      "Epoch 25: 9564 / 10000\n",
      "Epoch 26: 9543 / 10000\n",
      "Epoch 27: 9556 / 10000\n",
      "Epoch 28: 9545 / 10000\n",
      "Epoch 29: 9546 / 10000\n"
     ]
    }
   ],
   "source": [
    "net7 =Network([784, 40, 30,10])\n",
    "net7.SGD(training_data, 30, 10, 3.0, test_data=test_data)#epochs = 30, batch size = 10 and learning rate = 3"
   ]
  },
  {
   "cell_type": "code",
   "execution_count": 62,
   "metadata": {
    "collapsed": true
   },
   "outputs": [],
   "source": [
    "import numpy as np\n",
    "x = np.array([[0,0,1],\n",
    "            [0,1,1],\n",
    "            [1,0,1],\n",
    "            [1,1,1]])\n",
    "                \n",
    "y = np.array([[0],\n",
    "            [1],\n",
    "            [1],\n",
    "            [0]])"
   ]
  },
  {
   "cell_type": "code",
   "execution_count": 74,
   "metadata": {},
   "outputs": [
    {
     "data": {
      "text/plain": [
       "array([[ 0.59268075],\n",
       "       [-0.20025781],\n",
       "       [ 0.49200118],\n",
       "       [ 0.12756297]])"
      ]
     },
     "execution_count": 74,
     "metadata": {},
     "output_type": "execute_result"
    }
   ],
   "source": [
    "num_epochs = 1\n",
    "\n",
    "#initialize weights\n",
    "syn0 = 2*np.random.random((3,4)) - 1\n",
    "syn1 = 2*np.random.random((4,1)) - 1\n",
    "syn1"
   ]
  },
  {
   "cell_type": "code",
   "execution_count": 75,
   "metadata": {
    "collapsed": true
   },
   "outputs": [],
   "source": [
    "def nonlin(x,deriv=False):\n",
    "    if(deriv==True):\n",
    "        return x*(1-x)\n",
    "\n",
    "    return 1/(1+np.exp(-x))"
   ]
  },
  {
   "cell_type": "code",
   "execution_count": 79,
   "metadata": {},
   "outputs": [
    {
     "name": "stdout",
     "output_type": "stream",
     "text": [
      "Error:0.498586482987\n",
      "[[ 0.24952752]\n",
      " [ 0.24809825]\n",
      " [ 0.24486248]\n",
      " [ 0.24227448]]\n"
     ]
    }
   ],
   "source": [
    "for j in range(num_epochs):\n",
    "    #feed forward through layers 0,1, and 2\n",
    "    l0 = x\n",
    "    l1 = nonlin(np.dot(l0, syn0))\n",
    "    l2 = nonlin(np.dot(l1, syn1))\n",
    "    #how much did we miss the target value?\n",
    "    l2_error = y - l2\n",
    "    \n",
    "    if (j% 10000) == 0:\n",
    "        print (\"Error:\" + str(np.mean(np.abs(l2_error))))\n",
    "    print(nonlin(l2, deriv=True))\n",
    "    #in what direction is the target value?\n",
    "    l2_delta = l2_error*nonlin(l2, deriv=True)\n",
    "    \n",
    "    #how much did each l1 value contribute to l2 error\n",
    "    l1_error = l2_delta.dot(syn1.T)\n",
    "    \n",
    "    l1_delta= l1_error * nonlin(l1,deriv=True)\n",
    "    \n",
    "    syn1 += l1.T.dot(l2_delta)\n",
    "    syn0 += l0.T.dot(l1_delta)\n"
   ]
  },
  {
   "cell_type": "code",
   "execution_count": null,
   "metadata": {
    "collapsed": true
   },
   "outputs": [],
   "source": []
  }
 ],
 "metadata": {
  "kernelspec": {
   "display_name": "Python 3",
   "language": "python",
   "name": "python3"
  },
  "language_info": {
   "codemirror_mode": {
    "name": "ipython",
    "version": 3
   },
   "file_extension": ".py",
   "mimetype": "text/x-python",
   "name": "python",
   "nbconvert_exporter": "python",
   "pygments_lexer": "ipython3",
   "version": "3.5.2"
  }
 },
 "nbformat": 4,
 "nbformat_minor": 2
}
