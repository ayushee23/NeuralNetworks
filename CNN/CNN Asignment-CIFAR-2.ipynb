{
 "cells": [
  {
   "cell_type": "markdown",
   "metadata": {},
   "source": [
    "# Perform CIFAR-10 Dataset Classification using Keras"
   ]
  },
  {
   "cell_type": "markdown",
   "metadata": {},
   "source": [
    "#### 1) Perform CIFAR-10 Dataset Classification using 1 Convolution Layer"
   ]
  },
  {
   "cell_type": "markdown",
   "metadata": {},
   "source": [
    "##### 2) Perform CIFAR-10 Dataset Classification using 2 Convolution Layer"
   ]
  },
  {
   "cell_type": "markdown",
   "metadata": {},
   "source": [
    "##### 3) Perform CIFAR-10 Dataset Classification using 3 Convolution Layer"
   ]
  },
  {
   "cell_type": "markdown",
   "metadata": {},
   "source": [
    "##### 4) Compare the performance of models used in Question 1, 2 and 3"
   ]
  },
  {
   "cell_type": "markdown",
   "metadata": {},
   "source": [
    "##### 5) Use 2 Convolutions before performing activation and compare the results with all other models"
   ]
  },
  {
   "cell_type": "markdown",
   "metadata": {},
   "source": [
    "##### 6) Solve the CIFAR-10 classification. Don't use any of the above model's architecture. Come up with your own architecture"
   ]
  },
  {
   "cell_type": "markdown",
   "metadata": {},
   "source": [
    "### $ Important Points $\n",
    "\n",
    "1. Your code should be well commented.\n",
    "2. Please Document your IPYNB in most verbose way possible\n",
    "3. Comparision of Models should be done via Graphs and Plots\n"
   ]
  },
  {
   "cell_type": "markdown",
   "metadata": {
    "collapsed": true
   },
   "source": [
    "## Let the code commence :)"
   ]
  },
  {
   "cell_type": "code",
   "execution_count": 115,
   "metadata": {},
   "outputs": [],
   "source": [
    "import keras\n",
    "from keras.datasets import cifar10\n",
    "from keras.layers import Convolution2D, Dense, Activation, MaxPooling2D, Flatten\n",
    "from keras.models import Sequential\n",
    "from keras.utils import to_categorical\n",
    "from keras.optimizers import RMSprop\n",
    "import matplotlib.pyplot as plt\n",
    "import pandas as pd\n",
    "%matplotlib inline"
   ]
  },
  {
   "cell_type": "code",
   "execution_count": 65,
   "metadata": {},
   "outputs": [],
   "source": [
    "(x_train, y_train), (x_test, y_test) = cifar10.load_data()"
   ]
  },
  {
   "cell_type": "code",
   "execution_count": 66,
   "metadata": {},
   "outputs": [
    {
     "data": {
      "text/plain": [
       "(50000, 32, 32, 3)"
      ]
     },
     "execution_count": 66,
     "metadata": {},
     "output_type": "execute_result"
    }
   ],
   "source": [
    "x_train.shape"
   ]
  },
  {
   "cell_type": "code",
   "execution_count": 67,
   "metadata": {},
   "outputs": [],
   "source": [
    "x_train = x_train.astype('float64')\n",
    "x_test = x_test.astype('float64')\n",
    "x_train /= 255\n",
    "x_test /= 255"
   ]
  },
  {
   "cell_type": "code",
   "execution_count": 68,
   "metadata": {},
   "outputs": [
    {
     "data": {
      "text/plain": [
       "(10000, 32, 32, 3)"
      ]
     },
     "execution_count": 68,
     "metadata": {},
     "output_type": "execute_result"
    }
   ],
   "source": [
    "x_test.shape"
   ]
  },
  {
   "cell_type": "code",
   "execution_count": 69,
   "metadata": {},
   "outputs": [],
   "source": [
    "y_train = to_categorical(y_train, 10)\n",
    "y_test = to_categorical(y_test, 10)"
   ]
  },
  {
   "cell_type": "markdown",
   "metadata": {},
   "source": [
    "## model with 1 convolution layer"
   ]
  },
  {
   "cell_type": "code",
   "execution_count": 91,
   "metadata": {},
   "outputs": [
    {
     "name": "stdout",
     "output_type": "stream",
     "text": [
      "Train on 40000 samples, validate on 10000 samples\n",
      "Epoch 1/10\n",
      "40000/40000 [==============================] - 18s - loss: 1.8579 - acc: 0.3468 - val_loss: 1.7476 - val_acc: 0.3941\n",
      "Epoch 2/10\n",
      "40000/40000 [==============================] - 18s - loss: 1.6249 - acc: 0.4337 - val_loss: 1.6090 - val_acc: 0.4395\n",
      "Epoch 3/10\n",
      "40000/40000 [==============================] - 18s - loss: 1.5593 - acc: 0.4543 - val_loss: 1.5792 - val_acc: 0.4482\n",
      "Epoch 4/10\n",
      "40000/40000 [==============================] - 18s - loss: 1.5244 - acc: 0.4670 - val_loss: 1.5408 - val_acc: 0.4622\n",
      "Epoch 5/10\n",
      "40000/40000 [==============================] - 18s - loss: 1.5025 - acc: 0.4769 - val_loss: 1.5588 - val_acc: 0.4553\n",
      "Epoch 6/10\n",
      "40000/40000 [==============================] - 19s - loss: 1.4842 - acc: 0.4807 - val_loss: 1.5263 - val_acc: 0.4692\n",
      "Epoch 7/10\n",
      "40000/40000 [==============================] - 18s - loss: 1.4695 - acc: 0.4886 - val_loss: 1.5089 - val_acc: 0.4735\n",
      "Epoch 8/10\n",
      "40000/40000 [==============================] - 18s - loss: 1.4587 - acc: 0.4935 - val_loss: 1.5001 - val_acc: 0.4726\n",
      "Epoch 9/10\n",
      "40000/40000 [==============================] - 18s - loss: 1.4496 - acc: 0.4964 - val_loss: 1.4893 - val_acc: 0.4806\n",
      "Epoch 10/10\n",
      "40000/40000 [==============================] - 18s - loss: 1.4427 - acc: 0.4992 - val_loss: 1.4929 - val_acc: 0.4820\n",
      " 9952/10000 [============================>.] - ETA: 0s"
     ]
    }
   ],
   "source": [
    "model1 = Sequential()\n",
    "model1.add(Convolution2D(3, (3, 3), input_shape = (32, 32, 3)))\n",
    "model1.add(Activation('relu'))\n",
    "model1.add(MaxPooling2D())\n",
    "model1.add(Flatten())\n",
    "model1.add(Dense(10, activation='softmax'))\n",
    "model1.compile(optimizer = 'rmsprop', loss='categorical_crossentropy', metrics = ['accuracy'])\n",
    "model1_fit = model1.fit(x_train, y_train, validation_split=0.2)\n",
    "model1_predictions = model1.predict_classes(x_test)"
   ]
  },
  {
   "cell_type": "code",
   "execution_count": 120,
   "metadata": {},
   "outputs": [
    {
     "name": "stdout",
     "output_type": "stream",
     "text": [
      " 9856/10000 [============================>.] - ETA: 0s"
     ]
    }
   ],
   "source": [
    "model1_test_acc = model1.evaluate(x_test, y_test)"
   ]
  },
  {
   "cell_type": "code",
   "execution_count": 93,
   "metadata": {},
   "outputs": [
    {
     "data": {
      "image/png": "[encoded data removed]",
      "text/plain": [
       "<matplotlib.figure.Figure at 0x7f18fb516c18>"
      ]
     },
     "metadata": {},
     "output_type": "display_data"
    }
   ],
   "source": [
    "plt.plot(model1_fit.epoch, model1_fit.history['val_acc'])\n",
    "plt.plot(model1_fit.epoch, model1_fit.history['acc'])\n",
    "plt.legend(['validation accuracy', 'accuracy'])\n",
    "plt.show()"
   ]
  },
  {
   "cell_type": "markdown",
   "metadata": {},
   "source": [
    "## model with 2 convolution layers"
   ]
  },
  {
   "cell_type": "code",
   "execution_count": 94,
   "metadata": {},
   "outputs": [
    {
     "name": "stdout",
     "output_type": "stream",
     "text": [
      "Train on 40000 samples, validate on 10000 samples\n",
      "Epoch 1/10\n",
      "40000/40000 [==============================] - 22s - loss: 2.0530 - acc: 0.2505 - val_loss: 1.9662 - val_acc: 0.3047\n",
      "Epoch 2/10\n",
      "40000/40000 [==============================] - 22s - loss: 1.9264 - acc: 0.3185 - val_loss: 1.9177 - val_acc: 0.3301\n",
      "Epoch 3/10\n",
      "40000/40000 [==============================] - 22s - loss: 1.8838 - acc: 0.3354 - val_loss: 1.9116 - val_acc: 0.3338\n",
      "Epoch 4/10\n",
      "40000/40000 [==============================] - 23s - loss: 1.8547 - acc: 0.3468 - val_loss: 1.8483 - val_acc: 0.3422\n",
      "Epoch 5/10\n",
      "40000/40000 [==============================] - 22s - loss: 1.7892 - acc: 0.3690 - val_loss: 1.7610 - val_acc: 0.3786\n",
      "Epoch 6/10\n",
      "40000/40000 [==============================] - 22s - loss: 1.7122 - acc: 0.3930 - val_loss: 1.7144 - val_acc: 0.3913\n",
      "Epoch 7/10\n",
      "40000/40000 [==============================] - 22s - loss: 1.6628 - acc: 0.4093 - val_loss: 1.6431 - val_acc: 0.4153\n",
      "Epoch 8/10\n",
      "40000/40000 [==============================] - 22s - loss: 1.6380 - acc: 0.4163 - val_loss: 1.6494 - val_acc: 0.4105\n",
      "Epoch 9/10\n",
      "40000/40000 [==============================] - 22s - loss: 1.6194 - acc: 0.4234 - val_loss: 1.6207 - val_acc: 0.4260\n",
      "Epoch 10/10\n",
      "40000/40000 [==============================] - 22s - loss: 1.6071 - acc: 0.4280 - val_loss: 1.6037 - val_acc: 0.4301\n",
      " 9984/10000 [============================>.] - ETA: 0s"
     ]
    }
   ],
   "source": [
    "model2 = Sequential()\n",
    "model2.add(Convolution2D(3, (3, 3), input_shape = (32, 32, 3)))\n",
    "model2.add(Activation('relu'))\n",
    "model2.add(MaxPooling2D())\n",
    "model2.add(Convolution2D(3, (3, 3)))\n",
    "model2.add(Activation('relu'))\n",
    "model2.add(MaxPooling2D())\n",
    "model2.add(Flatten())\n",
    "model2.add(Dense(10, activation='softmax'))\n",
    "model2.compile(optimizer = 'rmsprop', loss='categorical_crossentropy', metrics = ['accuracy'])\n",
    "model2_fit = model2.fit(x_train, y_train, validation_split=0.2)\n",
    "model2_predictions = model2.predict_classes(x_test)"
   ]
  },
  {
   "cell_type": "code",
   "execution_count": 121,
   "metadata": {},
   "outputs": [
    {
     "name": "stdout",
     "output_type": "stream",
     "text": [
      " 9952/10000 [============================>.] - ETA: 0s"
     ]
    }
   ],
   "source": [
    "model2_test_acc = model2.evaluate(x_test, y_test)"
   ]
  },
  {
   "cell_type": "code",
   "execution_count": 96,
   "metadata": {},
   "outputs": [
    {
     "data": {
      "image/png": "[encoded data removed]",
      "text/plain": [
       "<matplotlib.figure.Figure at 0x7f18fad22f60>"
      ]
     },
     "metadata": {},
     "output_type": "display_data"
    }
   ],
   "source": [
    "plt.plot(model2_fit.epoch, model2_fit.history['val_acc'])\n",
    "plt.plot(model2_fit.epoch, model2_fit.history['acc'])\n",
    "plt.legend(['validation accuracy', 'accuracy'])\n",
    "plt.show()"
   ]
  },
  {
   "cell_type": "markdown",
   "metadata": {},
   "source": [
    "## model with 2 conv layer and many filters"
   ]
  },
  {
   "cell_type": "code",
   "execution_count": 97,
   "metadata": {},
   "outputs": [
    {
     "name": "stdout",
     "output_type": "stream",
     "text": [
      "Train on 40000 samples, validate on 10000 samples\n",
      "Epoch 1/10\n",
      "40000/40000 [==============================] - 21s - loss: 1.5974 - acc: 0.4320 - val_loss: 1.5948 - val_acc: 0.4289\n",
      "Epoch 2/10\n",
      "40000/40000 [==============================] - 21s - loss: 1.5860 - acc: 0.4375 - val_loss: 1.5840 - val_acc: 0.4374\n",
      "Epoch 3/10\n",
      "40000/40000 [==============================] - 22s - loss: 1.5788 - acc: 0.4395 - val_loss: 1.5940 - val_acc: 0.4328\n",
      "Epoch 4/10\n",
      "40000/40000 [==============================] - 21s - loss: 1.5737 - acc: 0.4412 - val_loss: 1.5734 - val_acc: 0.4402\n",
      "Epoch 5/10\n",
      "40000/40000 [==============================] - 21s - loss: 1.5650 - acc: 0.4469 - val_loss: 1.5791 - val_acc: 0.4412\n",
      "Epoch 6/10\n",
      "40000/40000 [==============================] - 22s - loss: 1.5621 - acc: 0.4457 - val_loss: 1.5671 - val_acc: 0.4459\n",
      "Epoch 7/10\n",
      "40000/40000 [==============================] - 22s - loss: 1.5571 - acc: 0.4484 - val_loss: 1.5868 - val_acc: 0.4400\n",
      "Epoch 8/10\n",
      "40000/40000 [==============================] - 22s - loss: 1.5535 - acc: 0.4506 - val_loss: 1.5655 - val_acc: 0.4445\n",
      "Epoch 9/10\n",
      "40000/40000 [==============================] - 22s - loss: 1.5481 - acc: 0.4507 - val_loss: 1.5946 - val_acc: 0.4388\n",
      "Epoch 10/10\n",
      "40000/40000 [==============================] - 21s - loss: 1.5455 - acc: 0.4506 - val_loss: 1.5833 - val_acc: 0.4471\n",
      " 9952/10000 [============================>.] - ETA: 0s"
     ]
    }
   ],
   "source": [
    "model7 = Sequential()\n",
    "model7.add(Convolution2D(32, (3, 3), input_shape = (32, 32, 3)))\n",
    "model7.add(Activation('relu'))\n",
    "model7.add(MaxPooling2D())\n",
    "model7.add(Convolution2D(32, (3, 3)))\n",
    "model7.add(Activation('relu'))\n",
    "model7.add(MaxPooling2D())\n",
    "model7.add(Flatten())\n",
    "model7.add(Dense(10, activation='softmax'))\n",
    "model7.compile(optimizer = 'rmsprop', loss='categorical_crossentropy', metrics = ['accuracy'])\n",
    "model7_fit = model2.fit(x_train, y_train, validation_split=0.2)\n",
    "model7_predictions = model7.predict_classes(x_test)"
   ]
  },
  {
   "cell_type": "code",
   "execution_count": 122,
   "metadata": {},
   "outputs": [
    {
     "name": "stdout",
     "output_type": "stream",
     "text": [
      "10000/10000 [==============================] - 4s     \n"
     ]
    }
   ],
   "source": [
    "model7_test_acc = model7.evaluate(x_test, y_test)"
   ]
  },
  {
   "cell_type": "code",
   "execution_count": 100,
   "metadata": {},
   "outputs": [
    {
     "data": {
      "image/png": "[encoded data removed]",
      "text/plain": [
       "<matplotlib.figure.Figure at 0x7f18f8946630>"
      ]
     },
     "metadata": {},
     "output_type": "display_data"
    }
   ],
   "source": [
    "plt.plot(model7_fit.epoch, model7_fit.history['val_acc'])\n",
    "plt.plot(model7_fit.epoch, model7_fit.history['acc'])\n",
    "plt.legend(['validation accuracy', 'accuracy'])\n",
    "plt.show()"
   ]
  },
  {
   "cell_type": "markdown",
   "metadata": {},
   "source": [
    "## model with 3 convolutional layers"
   ]
  },
  {
   "cell_type": "code",
   "execution_count": 101,
   "metadata": {},
   "outputs": [
    {
     "name": "stdout",
     "output_type": "stream",
     "text": [
      "Train on 40000 samples, validate on 10000 samples\n",
      "Epoch 1/10\n",
      "40000/40000 [==============================] - 17s - loss: 2.1492 - acc: 0.2053 - val_loss: 2.0382 - val_acc: 0.2499\n",
      "Epoch 2/10\n",
      "40000/40000 [==============================] - 17s - loss: 1.9846 - acc: 0.2770 - val_loss: 1.9532 - val_acc: 0.2859\n",
      "Epoch 3/10\n",
      "40000/40000 [==============================] - 17s - loss: 1.8996 - acc: 0.3138 - val_loss: 1.8990 - val_acc: 0.3186\n",
      "Epoch 4/10\n",
      "40000/40000 [==============================] - 17s - loss: 1.8440 - acc: 0.3391 - val_loss: 1.8383 - val_acc: 0.3409\n",
      "Epoch 5/10\n",
      "40000/40000 [==============================] - 16s - loss: 1.7996 - acc: 0.3587 - val_loss: 1.8044 - val_acc: 0.3582\n",
      "Epoch 6/10\n",
      "40000/40000 [==============================] - 16s - loss: 1.7608 - acc: 0.3750 - val_loss: 1.7551 - val_acc: 0.3807\n",
      "Epoch 7/10\n",
      "40000/40000 [==============================] - 16s - loss: 1.7308 - acc: 0.3834 - val_loss: 1.7269 - val_acc: 0.3834\n",
      "Epoch 8/10\n",
      "40000/40000 [==============================] - 16s - loss: 1.7093 - acc: 0.3898 - val_loss: 1.7313 - val_acc: 0.3905\n",
      "Epoch 9/10\n",
      "40000/40000 [==============================] - 16s - loss: 1.6922 - acc: 0.3966 - val_loss: 1.6966 - val_acc: 0.3903\n",
      "Epoch 10/10\n",
      "40000/40000 [==============================] - 17s - loss: 1.6783 - acc: 0.4005 - val_loss: 1.6877 - val_acc: 0.3979\n",
      " 9920/10000 [============================>.] - ETA: 0s"
     ]
    }
   ],
   "source": [
    "model3 = Sequential()\n",
    "model3.add(Convolution2D(3, (2, 2), input_shape = (32, 32, 3)))\n",
    "model3.add(Activation('relu'))\n",
    "model3.add(MaxPooling2D())\n",
    "model3.add(Convolution2D(3, (2, 2)))\n",
    "model3.add(Activation('relu'))\n",
    "model3.add(MaxPooling2D())\n",
    "model3.add(Convolution2D(3, (2, 2)))\n",
    "model3.add(Activation('relu'))\n",
    "model3.add(MaxPooling2D())\n",
    "model3.add(Flatten())\n",
    "model3.add(Dense(10, activation='softmax'))\n",
    "model3.compile(optimizer = 'rmsprop', loss='categorical_crossentropy', metrics = ['accuracy'])\n",
    "model3_fit = model3.fit(x_train, y_train, validation_split=0.2)\n",
    "model3_predictions = model3.predict_classes(x_test)"
   ]
  },
  {
   "cell_type": "code",
   "execution_count": 123,
   "metadata": {},
   "outputs": [
    {
     "name": "stdout",
     "output_type": "stream",
     "text": [
      " 9760/10000 [============================>.] - ETA: 0s"
     ]
    }
   ],
   "source": [
    "model3_test_acc = model3.evaluate(x_test, y_test)"
   ]
  },
  {
   "cell_type": "code",
   "execution_count": 103,
   "metadata": {},
   "outputs": [
    {
     "data": {
      "image/png": "[encoded data removed]",
      "text/plain": [
       "<matplotlib.figure.Figure at 0x7f18f8881eb8>"
      ]
     },
     "metadata": {},
     "output_type": "display_data"
    }
   ],
   "source": [
    "plt.plot(model3_fit.epoch, model3_fit.history['val_acc'])\n",
    "plt.plot(model3_fit.epoch, model3_fit.history['acc'])\n",
    "plt.legend(['validation accuracy', 'accuracy'])\n",
    "plt.show()"
   ]
  },
  {
   "cell_type": "markdown",
   "metadata": {},
   "source": [
    "## model with 3 conv layers and many filters"
   ]
  },
  {
   "cell_type": "code",
   "execution_count": 104,
   "metadata": {},
   "outputs": [
    {
     "name": "stdout",
     "output_type": "stream",
     "text": [
      "Train on 40000 samples, validate on 10000 samples\n",
      "Epoch 1/10\n",
      "40000/40000 [==============================] - 16s - loss: 1.6681 - acc: 0.4044 - val_loss: 1.6677 - val_acc: 0.4057\n",
      "Epoch 2/10\n",
      "40000/40000 [==============================] - 16s - loss: 1.6584 - acc: 0.4047 - val_loss: 1.6747 - val_acc: 0.4012\n",
      "Epoch 3/10\n",
      "40000/40000 [==============================] - 16s - loss: 1.6508 - acc: 0.4087 - val_loss: 1.6535 - val_acc: 0.4104\n",
      "Epoch 4/10\n",
      "40000/40000 [==============================] - 16s - loss: 1.6444 - acc: 0.4104 - val_loss: 1.6464 - val_acc: 0.4108\n",
      "Epoch 5/10\n",
      "40000/40000 [==============================] - 16s - loss: 1.6385 - acc: 0.4123 - val_loss: 1.6385 - val_acc: 0.4143\n",
      "Epoch 6/10\n",
      "40000/40000 [==============================] - 16s - loss: 1.6317 - acc: 0.4140 - val_loss: 1.6471 - val_acc: 0.4177\n",
      "Epoch 7/10\n",
      "40000/40000 [==============================] - 16s - loss: 1.6267 - acc: 0.4175 - val_loss: 1.6270 - val_acc: 0.4155\n",
      "Epoch 8/10\n",
      "40000/40000 [==============================] - 16s - loss: 1.6217 - acc: 0.4180 - val_loss: 1.6275 - val_acc: 0.4217\n",
      "Epoch 9/10\n",
      "40000/40000 [==============================] - 16s - loss: 1.6166 - acc: 0.4199 - val_loss: 1.6226 - val_acc: 0.4152\n",
      "Epoch 10/10\n",
      "40000/40000 [==============================] - 16s - loss: 1.6136 - acc: 0.4205 - val_loss: 1.6199 - val_acc: 0.4175\n",
      " 9952/10000 [============================>.] - ETA: 0s"
     ]
    }
   ],
   "source": [
    "model8 = Sequential()\n",
    "model8.add(Convolution2D(32, (2, 2), input_shape = (32, 32, 3)))\n",
    "model8.add(Activation('relu'))\n",
    "model8.add(MaxPooling2D())\n",
    "model8.add(Convolution2D(32, (2, 2)))\n",
    "model8.add(Activation('relu'))\n",
    "model8.add(MaxPooling2D())\n",
    "model8.add(Convolution2D(32, (2, 2)))\n",
    "model8.add(Activation('relu'))\n",
    "model8.add(MaxPooling2D())\n",
    "model8.add(Flatten())\n",
    "model8.add(Dense(10, activation='softmax'))\n",
    "model8.compile(optimizer = 'rmsprop', loss='categorical_crossentropy', metrics = ['accuracy'])\n",
    "model8_fit = model3.fit(x_train, y_train, validation_split=0.2)\n",
    "model8_predictions = model8.predict_classes(x_test)"
   ]
  },
  {
   "cell_type": "code",
   "execution_count": 124,
   "metadata": {},
   "outputs": [
    {
     "name": "stdout",
     "output_type": "stream",
     "text": [
      " 9952/10000 [============================>.] - ETA: 0s"
     ]
    }
   ],
   "source": [
    "model8_test_acc = model8.evaluate(x_test, y_test)"
   ]
  },
  {
   "cell_type": "code",
   "execution_count": 106,
   "metadata": {},
   "outputs": [
    {
     "data": {
      "image/png": "[encoded data removed]",
      "text/plain": [
       "<matplotlib.figure.Figure at 0x7f18f8597860>"
      ]
     },
     "metadata": {},
     "output_type": "display_data"
    }
   ],
   "source": [
    "plt.plot(model8_fit.epoch, model8_fit.history['val_acc'])\n",
    "plt.plot(model8_fit.epoch, model8_fit.history['acc'])\n",
    "plt.legend(['validation accuracy', 'accuracy'])\n",
    "plt.show()"
   ]
  },
  {
   "cell_type": "markdown",
   "metadata": {},
   "source": [
    "## model with repeated CAP"
   ]
  },
  {
   "cell_type": "code",
   "execution_count": 107,
   "metadata": {},
   "outputs": [
    {
     "name": "stdout",
     "output_type": "stream",
     "text": [
      "Train on 40000 samples, validate on 10000 samples\n",
      "Epoch 1/10\n",
      "40000/40000 [==============================] - 43s - loss: 1.7940 - acc: 0.3458 - val_loss: 1.5799 - val_acc: 0.4386\n",
      "Epoch 2/10\n",
      "40000/40000 [==============================] - 39s - loss: 1.4487 - acc: 0.4790 - val_loss: 1.3169 - val_acc: 0.5381\n",
      "Epoch 3/10\n",
      "40000/40000 [==============================] - 40s - loss: 1.3049 - acc: 0.5366 - val_loss: 1.2203 - val_acc: 0.5692\n",
      "Epoch 4/10\n",
      "40000/40000 [==============================] - 43s - loss: 1.1986 - acc: 0.5776 - val_loss: 1.1702 - val_acc: 0.5915\n",
      "Epoch 5/10\n",
      "40000/40000 [==============================] - 43s - loss: 1.1228 - acc: 0.6078 - val_loss: 1.1288 - val_acc: 0.6109\n",
      "Epoch 6/10\n",
      "40000/40000 [==============================] - 44s - loss: 1.0630 - acc: 0.6262 - val_loss: 1.0880 - val_acc: 0.6212\n",
      "Epoch 7/10\n",
      "40000/40000 [==============================] - 44s - loss: 1.0156 - acc: 0.6442 - val_loss: 1.0671 - val_acc: 0.6267\n",
      "Epoch 8/10\n",
      "40000/40000 [==============================] - 44s - loss: 0.9811 - acc: 0.6576 - val_loss: 1.0632 - val_acc: 0.6285\n",
      "Epoch 9/10\n",
      "40000/40000 [==============================] - 43s - loss: 0.9500 - acc: 0.6700 - val_loss: 1.0509 - val_acc: 0.6432\n",
      "Epoch 10/10\n",
      "40000/40000 [==============================] - 43s - loss: 0.9196 - acc: 0.6796 - val_loss: 1.0078 - val_acc: 0.6555\n",
      " 9888/10000 [============================>.] - ETA: 0s"
     ]
    }
   ],
   "source": [
    "model4 = Sequential()\n",
    "model4.add(Convolution2D(32, (2, 2), input_shape = (32, 32, 3)))\n",
    "model4.add(Activation('relu'))\n",
    "model4.add(MaxPooling2D())\n",
    "model4.add(Convolution2D(32, (2, 2)))\n",
    "model4.add(Activation('relu'))\n",
    "model4.add(MaxPooling2D())\n",
    "model4.add(Convolution2D(32, (2, 2)))\n",
    "model4.add(Activation('relu'))\n",
    "model4.add(MaxPooling2D())\n",
    "model4.add(Flatten())\n",
    "model4.add(Dense(32, activation='relu'))\n",
    "model4.add(Dense(10, activation='softmax'))\n",
    "model4.compile(optimizer = 'rmsprop', loss='categorical_crossentropy', metrics = ['accuracy'])\n",
    "model4_fit = model4.fit(x_train, y_train, validation_split=0.2)\n",
    "model4_predictions = model4.predict_classes(x_test)"
   ]
  },
  {
   "cell_type": "code",
   "execution_count": 125,
   "metadata": {},
   "outputs": [
    {
     "name": "stdout",
     "output_type": "stream",
     "text": [
      " 9856/10000 [============================>.] - ETA: 0s"
     ]
    }
   ],
   "source": [
    "model4_test_acc = model4.evaluate(x_test, y_test)"
   ]
  },
  {
   "cell_type": "code",
   "execution_count": 109,
   "metadata": {},
   "outputs": [
    {
     "data": {
      "image/png": "[encoded data removed]",
      "text/plain": [
       "<matplotlib.figure.Figure at 0x7f18f84a59b0>"
      ]
     },
     "metadata": {},
     "output_type": "display_data"
    }
   ],
   "source": [
    "plt.plot(model4_fit.epoch, model4_fit.history['val_acc'])\n",
    "plt.plot(model4_fit.epoch, model4_fit.history['acc'])\n",
    "plt.legend(['validation accuracy', 'accuracy'])\n",
    "plt.show()"
   ]
  },
  {
   "cell_type": "markdown",
   "metadata": {},
   "source": [
    "## model5"
   ]
  },
  {
   "cell_type": "code",
   "execution_count": 110,
   "metadata": {},
   "outputs": [
    {
     "name": "stdout",
     "output_type": "stream",
     "text": [
      "Train on 40000 samples, validate on 10000 samples\n",
      "Epoch 1/10\n",
      "40000/40000 [==============================] - 136s - loss: 1.5902 - acc: 0.4179 - val_loss: 1.3405 - val_acc: 0.5159\n",
      "Epoch 2/10\n",
      "40000/40000 [==============================] - 135s - loss: 1.2000 - acc: 0.5779 - val_loss: 1.1452 - val_acc: 0.5969\n",
      "Epoch 3/10\n",
      "40000/40000 [==============================] - 136s - loss: 1.0319 - acc: 0.6379 - val_loss: 1.0898 - val_acc: 0.6347\n",
      "Epoch 4/10\n",
      "40000/40000 [==============================] - 135s - loss: 0.9304 - acc: 0.6778 - val_loss: 1.0153 - val_acc: 0.6602\n",
      "Epoch 5/10\n",
      "40000/40000 [==============================] - 135s - loss: 0.8790 - acc: 0.6976 - val_loss: 0.9625 - val_acc: 0.6781\n",
      "Epoch 6/10\n",
      "40000/40000 [==============================] - 136s - loss: 0.8497 - acc: 0.7092 - val_loss: 0.9588 - val_acc: 0.6855\n",
      "Epoch 7/10\n",
      "40000/40000 [==============================] - 135s - loss: 0.8396 - acc: 0.7142 - val_loss: 0.9549 - val_acc: 0.6977\n",
      "Epoch 8/10\n",
      "40000/40000 [==============================] - 138s - loss: 0.8390 - acc: 0.7164 - val_loss: 0.9395 - val_acc: 0.6806\n",
      "Epoch 9/10\n",
      "40000/40000 [==============================] - 134s - loss: 0.8361 - acc: 0.7195 - val_loss: 0.9132 - val_acc: 0.6900\n",
      "Epoch 10/10\n",
      "40000/40000 [==============================] - 137s - loss: 0.8236 - acc: 0.7231 - val_loss: 0.9503 - val_acc: 0.6806\n",
      " 9952/10000 [============================>.] - ETA: 0s"
     ]
    }
   ],
   "source": [
    "model5 = Sequential()\n",
    "model5.add(Convolution2D(32, (3, 3), input_shape = (32, 32, 3)))\n",
    "model5.add(Convolution2D(32, (3, 3)))\n",
    "model5.add(Activation('relu'))\n",
    "model5.add(MaxPooling2D())\n",
    "model5.add(Convolution2D(32, (3, 3)))\n",
    "model5.add(Activation('relu'))\n",
    "model5.add(MaxPooling2D())\n",
    "model5.add(Convolution2D(32, (3, 3)))\n",
    "model5.add(Activation('relu'))\n",
    "model5.add(MaxPooling2D())\n",
    "model5.add(Flatten())\n",
    "model5.add(Dense(256, activation='relu'))\n",
    "model5.add(Dense(256, activation='relu'))\n",
    "model5.add(Dense(10, activation='softmax'))\n",
    "model5.compile(optimizer = 'rmsprop', loss='categorical_crossentropy', metrics = ['accuracy'])\n",
    "model5_fit = model5.fit(x_train, y_train, validation_split=0.2)\n",
    "model5_predictions = model5.predict_classes(x_test)"
   ]
  },
  {
   "cell_type": "code",
   "execution_count": 126,
   "metadata": {},
   "outputs": [
    {
     "name": "stdout",
     "output_type": "stream",
     "text": [
      " 9952/10000 [============================>.] - ETA: 0s"
     ]
    }
   ],
   "source": [
    "model5_test_acc = model5.evaluate(x_test, y_test)"
   ]
  },
  {
   "cell_type": "code",
   "execution_count": 112,
   "metadata": {},
   "outputs": [
    {
     "data": {
      "image/png": "[encoded data removed]",
      "text/plain": [
       "<matplotlib.figure.Figure at 0x7f18f84585c0>"
      ]
     },
     "metadata": {},
     "output_type": "display_data"
    }
   ],
   "source": [
    "plt.plot(model5_fit.epoch, model5_fit.history['val_acc'])\n",
    "plt.plot(model5_fit.epoch, model5_fit.history['acc'])\n",
    "plt.legend(['validation accuracy', 'accuracy'])\n",
    "plt.show()"
   ]
  },
  {
   "cell_type": "markdown",
   "metadata": {},
   "source": [
    "## model with 1 conv layer and 32 filters"
   ]
  },
  {
   "cell_type": "code",
   "execution_count": 89,
   "metadata": {},
   "outputs": [
    {
     "name": "stdout",
     "output_type": "stream",
     "text": [
      "Train on 40000 samples, validate on 10000 samples\n",
      "Epoch 1/10\n",
      "40000/40000 [==============================] - 36s - loss: 1.5358 - acc: 0.4641 - val_loss: 1.3526 - val_acc: 0.5303\n",
      "Epoch 2/10\n",
      "40000/40000 [==============================] - 35s - loss: 1.2523 - acc: 0.5670 - val_loss: 1.2604 - val_acc: 0.5627\n",
      "Epoch 3/10\n",
      "40000/40000 [==============================] - 35s - loss: 1.1550 - acc: 0.6016 - val_loss: 1.2192 - val_acc: 0.5783\n",
      "Epoch 4/10\n",
      "40000/40000 [==============================] - 36s - loss: 1.0894 - acc: 0.6231 - val_loss: 1.2545 - val_acc: 0.5692\n",
      "Epoch 5/10\n",
      "40000/40000 [==============================] - 36s - loss: 1.0386 - acc: 0.6446 - val_loss: 1.1333 - val_acc: 0.6099\n",
      "Epoch 6/10\n",
      "40000/40000 [==============================] - 36s - loss: 0.9976 - acc: 0.6605 - val_loss: 1.1405 - val_acc: 0.6198\n",
      "Epoch 7/10\n",
      "40000/40000 [==============================] - 36s - loss: 0.9627 - acc: 0.6742 - val_loss: 1.1056 - val_acc: 0.6303\n",
      "Epoch 8/10\n",
      "40000/40000 [==============================] - 37s - loss: 0.9338 - acc: 0.6823 - val_loss: 1.1121 - val_acc: 0.6294\n",
      "Epoch 9/10\n",
      "40000/40000 [==============================] - 37s - loss: 0.9073 - acc: 0.6914 - val_loss: 1.1495 - val_acc: 0.6129\n",
      "Epoch 10/10\n",
      "40000/40000 [==============================] - 37s - loss: 0.8860 - acc: 0.6998 - val_loss: 1.0840 - val_acc: 0.6421\n",
      " 9952/10000 [============================>.] - ETA: 0s"
     ]
    }
   ],
   "source": [
    "model6 = Sequential()\n",
    "model6.add(Convolution2D(32, (3, 3), input_shape = (32, 32, 3)))\n",
    "model6.add(Activation('relu'))\n",
    "model6.add(MaxPooling2D())\n",
    "model6.add(Flatten())\n",
    "model6.add(Dense(10, activation='softmax'))\n",
    "model6.compile(optimizer = 'rmsprop', loss='categorical_crossentropy', metrics = ['accuracy'])\n",
    "model6_fit = model6.fit(x_train, y_train, validation_split=0.2)\n",
    "model6_predictions = model6.predict_classes(x_test)"
   ]
  },
  {
   "cell_type": "code",
   "execution_count": 127,
   "metadata": {},
   "outputs": [
    {
     "name": "stdout",
     "output_type": "stream",
     "text": [
      " 9920/10000 [============================>.] - ETA: 0s"
     ]
    }
   ],
   "source": [
    "model6_test_acc = model6.evaluate(x_test, y_test)"
   ]
  },
  {
   "cell_type": "code",
   "execution_count": 138,
   "metadata": {},
   "outputs": [
    {
     "data": {
      "image/png": "[encoded data removed]",
      "text/plain": [
       "<matplotlib.figure.Figure at 0x7f18f7c7de10>"
      ]
     },
     "metadata": {},
     "output_type": "display_data"
    }
   ],
   "source": [
    "plt.plot(model6_fit.epoch, model6_fit.history['val_acc'])\n",
    "plt.plot(model6_fit.epoch, model6_fit.history['acc'])\n",
    "plt.legend(['validation accuracy', 'accuracy'])\n",
    "plt.show()"
   ]
  },
  {
   "cell_type": "markdown",
   "metadata": {},
   "source": [
    "## plot comparing train and test accuracy of all models"
   ]
  },
  {
   "cell_type": "code",
   "execution_count": 135,
   "metadata": {},
   "outputs": [],
   "source": [
    "models_acc = {'model1':(model1_fit.history['acc'][-1], model1_test_acc[1]),\n",
    "              'model2':(model2_fit.history['acc'][-1], model2_test_acc[1]),\n",
    "              'model3':(model3_fit.history['acc'][-1], model3_test_acc[1]),\n",
    "             'model4':(model4_fit.history['acc'][-1], model4_test_acc[1]),\n",
    "              'model5':(model5_fit.history['acc'][-1], model5_test_acc[1]),\n",
    "              'model6':(model6_fit.history['acc'][-1], model6_test_acc[1]),\n",
    "              'model7':(model7_fit.history['acc'][-1], model7_test_acc[1]),\n",
    "              'model8':(model8_fit.history['acc'][-1], model8_test_acc[1])\n",
    "             }"
   ]
  },
  {
   "cell_type": "code",
   "execution_count": 137,
   "metadata": {},
   "outputs": [
    {
     "data": {
      "text/plain": [
       "<matplotlib.axes._subplots.AxesSubplot at 0x7f18f8580e48>"
      ]
     },
     "execution_count": 137,
     "metadata": {},
     "output_type": "execute_result"
    },
    {
     "data": {
      "image/png": "[encoded data removed]",
      "text/plain": [
       "<matplotlib.figure.Figure at 0x7f18f8916898>"
      ]
     },
     "metadata": {},
     "output_type": "display_data"
    }
   ],
   "source": [
    "df_data = pd.DataFrame.from_dict(models_acc, orient='index')\n",
    "df_data.columns = ['train_acc', 'test_acc']\n",
    "df_data.plot(kind='bar')"
   ]
  },
  {
   "cell_type": "code",
   "execution_count": null,
   "metadata": {
    "collapsed": true
   },
   "outputs": [],
   "source": []
  }
 ],
 "metadata": {
  "kernelspec": {
   "display_name": "Python 3",
   "language": "python",
   "name": "python3"
  },
  "language_info": {
   "codemirror_mode": {
    "name": "ipython",
    "version": 3
   },
   "file_extension": ".py",
   "mimetype": "text/x-python",
   "name": "python",
   "nbconvert_exporter": "python",
   "pygments_lexer": "ipython3",
   "version": "3.5.2"
  }
 },
 "nbformat": 4,
 "nbformat_minor": 2
}
