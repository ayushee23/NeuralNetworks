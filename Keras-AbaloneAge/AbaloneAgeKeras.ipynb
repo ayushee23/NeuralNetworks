{
 "cells": [
  {
   "cell_type": "markdown",
   "metadata": {},
   "source": [
    "## Abalone dataset classification"
   ]
  },
  {
   "cell_type": "code",
   "execution_count": 158,
   "metadata": {
    "collapsed": true
   },
   "outputs": [],
   "source": [
    "import keras\n",
    "import pandas as pd\n",
    "from keras.models import Sequential\n",
    "from keras.layers import Dense, Dropout\n",
    "from keras.optimizers import RMSprop\n",
    "from keras.utils import to_categorical\n",
    "from sklearn.utils import shuffle\n",
    "import numpy as np\n",
    "import matplotlib.pyplot as plt\n",
    "%matplotlib inline"
   ]
  },
  {
   "cell_type": "code",
   "execution_count": 176,
   "metadata": {
    "collapsed": true
   },
   "outputs": [],
   "source": [
    "df = pd.read_csv('abalone.data.csv', header=None)\n",
    "genders = df[0].unique()  "
   ]
  },
  {
   "cell_type": "code",
   "execution_count": 182,
   "metadata": {
    "collapsed": true
   },
   "outputs": [],
   "source": [
    "#dictionary with keys as M, F, I and values 0, 1, 2\n",
    "gender_to_num = {}\n",
    "for i, j in enumerate(df[0].unique()):\n",
    "    gender_to_num[j] = i"
   ]
  },
  {
   "cell_type": "code",
   "execution_count": 185,
   "metadata": {
    "collapsed": true
   },
   "outputs": [],
   "source": [
    "df = pd.read_csv('abalone.data.csv', header=None)\n",
    "df[0] = df[0].map(gender_to_num)#mapping genders M, F, I to numbers\n",
    "models_acc = {}"
   ]
  },
  {
   "cell_type": "code",
   "execution_count": 160,
   "metadata": {
    "collapsed": true
   },
   "outputs": [],
   "source": [
    "#stopping criteria\n",
    "call_backs = [keras.callbacks.EarlyStopping(monitor='val_acc', min_delta=0.1, patience=3, mode='max')]"
   ]
  },
  {
   "cell_type": "code",
   "execution_count": 186,
   "metadata": {
    "collapsed": true
   },
   "outputs": [],
   "source": [
    "#dividing the provided 29 age classes into 3 classes\n",
    "def to_range(x):\n",
    "    if x>=1 and x<=8:\n",
    "        return 0\n",
    "    elif x>=9 and x<=10:\n",
    "        return 1\n",
    "    elif x>=11 and x<=29:\n",
    "        return 2\n",
    "\n",
    "    "
   ]
  },
  {
   "cell_type": "code",
   "execution_count": 187,
   "metadata": {
    "collapsed": true
   },
   "outputs": [],
   "source": [
    "#creating a new column for y labels having 3 classes\n",
    "df[9] = df[8].map(to_range)"
   ]
  },
  {
   "cell_type": "code",
   "execution_count": 188,
   "metadata": {
    "collapsed": true
   },
   "outputs": [],
   "source": [
    "#dividing data into train and test\n",
    "split = int(len(df)*0.85)\n",
    "x_train = np.array(df.ix[:split, :8])\n",
    "y_train = np.array(df.ix[:split:, 9])\n",
    "x_test = np.array(df.ix[split:, :8])\n",
    "y_test = np.array(df.ix[split:, 9])\n",
    "y_train_labels = y_train\n",
    "y_test_labels = y_test"
   ]
  },
  {
   "cell_type": "code",
   "execution_count": 189,
   "metadata": {
    "collapsed": true
   },
   "outputs": [],
   "source": [
    "#converting y labels into one-hot encoding\n",
    "y_train = to_categorical(y_train, num_classes=3)\n",
    "y_test = to_categorical(y_test, num_classes=3)"
   ]
  },
  {
   "cell_type": "markdown",
   "metadata": {},
   "source": [
    "## model with 3 hidden layers"
   ]
  },
  {
   "cell_type": "code",
   "execution_count": 59,
   "metadata": {},
   "outputs": [
    {
     "name": "stdout",
     "output_type": "stream",
     "text": [
      "Train on 2840 samples, validate on 711 samples\n",
      "Epoch 1/15\n",
      "0s - loss: 0.7667 - acc: 0.6232 - val_loss: 0.4599 - val_acc: 0.7595\n",
      "Epoch 2/15\n",
      "0s - loss: 0.3521 - acc: 0.8511 - val_loss: 0.2122 - val_acc: 0.9423\n",
      "Epoch 3/15\n",
      "0s - loss: 0.2446 - acc: 0.8996 - val_loss: 0.1469 - val_acc: 0.9817\n",
      "Epoch 4/15\n",
      "0s - loss: 0.1746 - acc: 0.9444 - val_loss: 0.0939 - val_acc: 0.9958\n",
      "Epoch 5/15\n",
      "0s - loss: 0.1474 - acc: 0.9535 - val_loss: 0.3146 - val_acc: 0.8495\n",
      "Epoch 6/15\n",
      "0s - loss: 0.1328 - acc: 0.9567 - val_loss: 0.0256 - val_acc: 1.0000\n",
      " 32/627 [>.............................] - ETA: 0s"
     ]
    }
   ],
   "source": [
    "model1 = Sequential()\n",
    "model1.add(Dense(500, activation='sigmoid', input_shape = (9,)))\n",
    "model1.add(Dense(300, activation='sigmoid'))\n",
    "model1.add(Dense(300, activation='sigmoid'))\n",
    "model1.add(Dense(3, activation='softmax'))\n",
    "model1.compile('rmsprop', loss='categorical_crossentropy', metrics=['accuracy'])\n",
    "model_fit = model1.fit(x_train, y_train, batch_size=20, epochs=15, verbose=2, validation_split=0.2, callbacks=call_backs)\n",
    "predictions = model1.predict_classes(x_test)\n",
    "model1_acc = (model_fit.history['acc'][-1], model1.evaluate(x_test, y_test)[1])\n",
    "models_acc['model1'] = model1_acc"
   ]
  },
  {
   "cell_type": "code",
   "execution_count": 60,
   "metadata": {},
   "outputs": [
    {
     "data": {
      "image/png": "[encoded data removed]",
      "text/plain": [
       "<matplotlib.figure.Figure at 0x7fe06491b860>"
      ]
     },
     "metadata": {},
     "output_type": "display_data"
    }
   ],
   "source": [
    "plt.plot(model_fit.epoch, model_fit.history['val_acc'])\n",
    "plt.plot(model_fit.epoch, model_fit.history['acc'])\n",
    "plt.legend(['validation accuracy', 'accuracy'])\n",
    "plt.show()"
   ]
  },
  {
   "cell_type": "code",
   "execution_count": 61,
   "metadata": {},
   "outputs": [
    {
     "data": {
      "text/html": [
       "<div>\n",
       "<table border=\"1\" class=\"dataframe\">\n",
       "  <thead>\n",
       "    <tr style=\"text-align: right;\">\n",
       "      <th>col_0</th>\n",
       "      <th>0</th>\n",
       "      <th>1</th>\n",
       "      <th>2</th>\n",
       "    </tr>\n",
       "    <tr>\n",
       "      <th>row_0</th>\n",
       "      <th></th>\n",
       "      <th></th>\n",
       "      <th></th>\n",
       "    </tr>\n",
       "  </thead>\n",
       "  <tbody>\n",
       "    <tr>\n",
       "      <th>0</th>\n",
       "      <td>197</td>\n",
       "      <td>0</td>\n",
       "      <td>0</td>\n",
       "    </tr>\n",
       "    <tr>\n",
       "      <th>1</th>\n",
       "      <td>0</td>\n",
       "      <td>238</td>\n",
       "      <td>0</td>\n",
       "    </tr>\n",
       "    <tr>\n",
       "      <th>2</th>\n",
       "      <td>0</td>\n",
       "      <td>0</td>\n",
       "      <td>192</td>\n",
       "    </tr>\n",
       "  </tbody>\n",
       "</table>\n",
       "</div>"
      ],
      "text/plain": [
       "col_0    0    1    2\n",
       "row_0               \n",
       "0      197    0    0\n",
       "1        0  238    0\n",
       "2        0    0  192"
      ]
     },
     "execution_count": 61,
     "metadata": {},
     "output_type": "execute_result"
    }
   ],
   "source": [
    "pd.crosstab(y_test_labels, predictions)"
   ]
  },
  {
   "cell_type": "markdown",
   "metadata": {},
   "source": [
    "## model with 2 hidden layers"
   ]
  },
  {
   "cell_type": "code",
   "execution_count": 166,
   "metadata": {},
   "outputs": [
    {
     "name": "stdout",
     "output_type": "stream",
     "text": [
      "Train on 2840 samples, validate on 711 samples\n",
      "Epoch 1/15\n",
      "0s - loss: 0.8074 - acc: 0.6134 - val_loss: 0.5538 - val_acc: 0.7201\n",
      "Epoch 2/15\n",
      "0s - loss: 0.3925 - acc: 0.8500 - val_loss: 0.3093 - val_acc: 0.8945\n",
      "Epoch 3/15\n",
      "0s - loss: 0.2568 - acc: 0.9130 - val_loss: 0.1844 - val_acc: 0.9930\n",
      "Epoch 4/15\n",
      "0s - loss: 0.1847 - acc: 0.9479 - val_loss: 0.1742 - val_acc: 0.9691\n",
      "Epoch 5/15\n",
      "0s - loss: 0.1398 - acc: 0.9648 - val_loss: 0.0831 - val_acc: 1.0000\n",
      "Epoch 6/15\n",
      "0s - loss: 0.1035 - acc: 0.9739 - val_loss: 0.0735 - val_acc: 1.0000\n",
      "Epoch 7/15\n",
      "0s - loss: 0.0817 - acc: 0.9806 - val_loss: 0.0431 - val_acc: 1.0000\n",
      "Epoch 8/15\n",
      "0s - loss: 0.0672 - acc: 0.9810 - val_loss: 0.0345 - val_acc: 1.0000\n",
      "Epoch 9/15\n",
      "0s - loss: 0.0507 - acc: 0.9852 - val_loss: 0.0218 - val_acc: 1.0000\n",
      " 32/627 [>.............................] - ETA: 0s"
     ]
    }
   ],
   "source": [
    "model2 = Sequential()\n",
    "model2.add(Dense(500, activation='sigmoid', input_shape = (9,)))\n",
    "model2.add(Dense(300, activation='sigmoid'))\n",
    "model2.add(Dense(3, activation='softmax'))\n",
    "model2.compile('rmsprop', loss='categorical_crossentropy', metrics=['accuracy'])\n",
    "model2.fit(x_train, y_train, batch_size=20, epochs=15, verbose=2, validation_split=0.2, callbacks=call_backs)\n",
    "predictions = model1.predict_classes(x_test)\n",
    "model2.evaluate(x_test, y_test)\n",
    "model2_acc = (model_fit.history['acc'][-1], model2.evaluate(x_test, y_test)[1])\n",
    "models_acc['model2'] = model2_acc"
   ]
  },
  {
   "cell_type": "code",
   "execution_count": 63,
   "metadata": {},
   "outputs": [
    {
     "data": {
      "image/png": "[encoded data removed]",
      "text/plain": [
       "<matplotlib.figure.Figure at 0x7fe0646bff60>"
      ]
     },
     "metadata": {},
     "output_type": "display_data"
    }
   ],
   "source": [
    "plt.plot(model_fit.epoch, model_fit.history['val_acc'])\n",
    "plt.plot(model_fit.epoch, model_fit.history['acc'])\n",
    "plt.legend(['validation accuracy', 'accuracy'])\n",
    "plt.show()"
   ]
  },
  {
   "cell_type": "code",
   "execution_count": 64,
   "metadata": {},
   "outputs": [
    {
     "data": {
      "text/html": [
       "<div>\n",
       "<table border=\"1\" class=\"dataframe\">\n",
       "  <thead>\n",
       "    <tr style=\"text-align: right;\">\n",
       "      <th>col_0</th>\n",
       "      <th>0</th>\n",
       "      <th>1</th>\n",
       "      <th>2</th>\n",
       "    </tr>\n",
       "    <tr>\n",
       "      <th>row_0</th>\n",
       "      <th></th>\n",
       "      <th></th>\n",
       "      <th></th>\n",
       "    </tr>\n",
       "  </thead>\n",
       "  <tbody>\n",
       "    <tr>\n",
       "      <th>0</th>\n",
       "      <td>197</td>\n",
       "      <td>0</td>\n",
       "      <td>0</td>\n",
       "    </tr>\n",
       "    <tr>\n",
       "      <th>1</th>\n",
       "      <td>0</td>\n",
       "      <td>238</td>\n",
       "      <td>0</td>\n",
       "    </tr>\n",
       "    <tr>\n",
       "      <th>2</th>\n",
       "      <td>0</td>\n",
       "      <td>0</td>\n",
       "      <td>192</td>\n",
       "    </tr>\n",
       "  </tbody>\n",
       "</table>\n",
       "</div>"
      ],
      "text/plain": [
       "col_0    0    1    2\n",
       "row_0               \n",
       "0      197    0    0\n",
       "1        0  238    0\n",
       "2        0    0  192"
      ]
     },
     "execution_count": 64,
     "metadata": {},
     "output_type": "execute_result"
    }
   ],
   "source": [
    "pd.crosstab(y_test_labels, predictions)"
   ]
  },
  {
   "cell_type": "markdown",
   "metadata": {},
   "source": [
    "## model with 4 hidden layers"
   ]
  },
  {
   "cell_type": "code",
   "execution_count": 65,
   "metadata": {},
   "outputs": [
    {
     "name": "stdout",
     "output_type": "stream",
     "text": [
      "Train on 2840 samples, validate on 711 samples\n",
      "Epoch 1/15\n",
      "2s - loss: 0.9780 - acc: 0.4982 - val_loss: 0.5428 - val_acc: 0.6835\n",
      "Epoch 2/15\n",
      "2s - loss: 0.4074 - acc: 0.8317 - val_loss: 0.1911 - val_acc: 0.9423\n",
      "Epoch 3/15\n",
      "1s - loss: 0.3035 - acc: 0.8736 - val_loss: 0.1990 - val_acc: 0.8889\n",
      "Epoch 4/15\n",
      "1s - loss: 0.2238 - acc: 0.9141 - val_loss: 0.1171 - val_acc: 0.9592\n",
      "Epoch 5/15\n",
      "1s - loss: 0.1842 - acc: 0.9437 - val_loss: 0.0423 - val_acc: 1.0000\n",
      "Epoch 6/15\n",
      "1s - loss: 0.1527 - acc: 0.9599 - val_loss: 0.0328 - val_acc: 1.0000\n",
      "448/627 [====================>.........] - ETA: 0s"
     ]
    }
   ],
   "source": [
    "model3 = Sequential()\n",
    "model3.add(Dense(512, activation='sigmoid', input_shape = (9,)))\n",
    "model3.add(Dense(512, activation='sigmoid'))\n",
    "model3.add(Dense(512, activation='sigmoid'))\n",
    "model3.add(Dense(512, activation='sigmoid'))\n",
    "model3.add(Dense(3, activation='softmax'))\n",
    "model3.compile('rmsprop', loss='categorical_crossentropy', metrics=['accuracy'])\n",
    "model3.fit(x_train, y_train, batch_size=20, epochs=15, verbose=2, validation_split=0.2, callbacks=call_backs)\n",
    "predictions = model1.predict_classes(x_test)\n",
    "model3.evaluate(x_test, y_test)\n",
    "model3_acc = (model_fit.history['acc'][-1], model3.evaluate(x_test, y_test)[1])\n",
    "models_acc['model3'] = model3_acc"
   ]
  },
  {
   "cell_type": "code",
   "execution_count": 66,
   "metadata": {},
   "outputs": [
    {
     "data": {
      "image/png": "[encoded data removed]",
      "text/plain": [
       "<matplotlib.figure.Figure at 0x7fe064387ac8>"
      ]
     },
     "metadata": {},
     "output_type": "display_data"
    }
   ],
   "source": [
    "plt.plot(model_fit.epoch, model_fit.history['val_acc'])\n",
    "plt.plot(model_fit.epoch, model_fit.history['acc'])\n",
    "plt.legend(['validation accuracy', 'accuracy'])\n",
    "plt.show()"
   ]
  },
  {
   "cell_type": "code",
   "execution_count": 67,
   "metadata": {},
   "outputs": [
    {
     "data": {
      "text/html": [
       "<div>\n",
       "<table border=\"1\" class=\"dataframe\">\n",
       "  <thead>\n",
       "    <tr style=\"text-align: right;\">\n",
       "      <th>col_0</th>\n",
       "      <th>0</th>\n",
       "      <th>1</th>\n",
       "      <th>2</th>\n",
       "    </tr>\n",
       "    <tr>\n",
       "      <th>row_0</th>\n",
       "      <th></th>\n",
       "      <th></th>\n",
       "      <th></th>\n",
       "    </tr>\n",
       "  </thead>\n",
       "  <tbody>\n",
       "    <tr>\n",
       "      <th>0</th>\n",
       "      <td>197</td>\n",
       "      <td>0</td>\n",
       "      <td>0</td>\n",
       "    </tr>\n",
       "    <tr>\n",
       "      <th>1</th>\n",
       "      <td>0</td>\n",
       "      <td>238</td>\n",
       "      <td>0</td>\n",
       "    </tr>\n",
       "    <tr>\n",
       "      <th>2</th>\n",
       "      <td>0</td>\n",
       "      <td>0</td>\n",
       "      <td>192</td>\n",
       "    </tr>\n",
       "  </tbody>\n",
       "</table>\n",
       "</div>"
      ],
      "text/plain": [
       "col_0    0    1    2\n",
       "row_0               \n",
       "0      197    0    0\n",
       "1        0  238    0\n",
       "2        0    0  192"
      ]
     },
     "execution_count": 67,
     "metadata": {},
     "output_type": "execute_result"
    }
   ],
   "source": [
    "pd.crosstab(y_test_labels, predictions)"
   ]
  },
  {
   "cell_type": "markdown",
   "metadata": {},
   "source": [
    "## model with 4 hidden layers and dropout"
   ]
  },
  {
   "cell_type": "code",
   "execution_count": 68,
   "metadata": {},
   "outputs": [
    {
     "name": "stdout",
     "output_type": "stream",
     "text": [
      "Train on 2840 samples, validate on 711 samples\n",
      "Epoch 1/15\n",
      "2s - loss: 1.0988 - acc: 0.4648 - val_loss: 0.4561 - val_acc: 0.8397\n",
      "Epoch 2/15\n",
      "1s - loss: 0.4810 - acc: 0.7792 - val_loss: 0.9696 - val_acc: 0.6146\n",
      "Epoch 3/15\n",
      "1s - loss: 0.3504 - acc: 0.8486 - val_loss: 0.1183 - val_acc: 0.9902\n",
      "Epoch 4/15\n",
      "1s - loss: 0.2602 - acc: 0.8891 - val_loss: 0.1295 - val_acc: 0.9606\n",
      "Epoch 5/15\n",
      "1s - loss: 0.2126 - acc: 0.9106 - val_loss: 0.1152 - val_acc: 0.9873\n",
      "Epoch 6/15\n",
      "1s - loss: 0.2041 - acc: 0.9250 - val_loss: 0.0767 - val_acc: 0.9775\n",
      "Epoch 7/15\n",
      "1s - loss: 0.1714 - acc: 0.9363 - val_loss: 0.0784 - val_acc: 0.9972\n",
      "512/627 [=======================>......] - ETA: 0s"
     ]
    }
   ],
   "source": [
    "model4 = Sequential()\n",
    "model4.add(Dense(512, activation='sigmoid', input_shape = (9,)))\n",
    "model4.add(Dense(512, activation='sigmoid'))\n",
    "model4.add(Dropout(0.5))\n",
    "model4.add(Dense(512, activation='sigmoid'))\n",
    "model4.add(Dropout(0.5))\n",
    "model4.add(Dense(512, activation='sigmoid'))\n",
    "model4.add(Dropout(0.5))\n",
    "model4.add(Dense(3, activation='softmax'))\n",
    "model4.compile('rmsprop', loss='categorical_crossentropy', metrics=['accuracy'])\n",
    "model4.fit(x_train, y_train, batch_size=20, epochs=15, verbose=2, validation_split=0.2, callbacks = call_backs)\n",
    "predictions = model1.predict_classes(x_test)\n",
    "model4.evaluate(x_test, y_test)\n",
    "model4_acc = (model_fit.history['acc'][-1], model4.evaluate(x_test, y_test)[1])\n",
    "models_acc['model4'] = model4_acc"
   ]
  },
  {
   "cell_type": "code",
   "execution_count": 69,
   "metadata": {},
   "outputs": [
    {
     "data": {
      "image/png": "[encoded data removed]",
      "text/plain": [
       "<matplotlib.figure.Figure at 0x7fe06417e0f0>"
      ]
     },
     "metadata": {},
     "output_type": "display_data"
    }
   ],
   "source": [
    "plt.plot(model_fit.epoch, model_fit.history['val_acc'])\n",
    "plt.plot(model_fit.epoch, model_fit.history['acc'])\n",
    "plt.legend(['validation accuracy', 'accuracy'])\n",
    "plt.show()"
   ]
  },
  {
   "cell_type": "code",
   "execution_count": 70,
   "metadata": {},
   "outputs": [
    {
     "data": {
      "text/html": [
       "<div>\n",
       "<table border=\"1\" class=\"dataframe\">\n",
       "  <thead>\n",
       "    <tr style=\"text-align: right;\">\n",
       "      <th>col_0</th>\n",
       "      <th>0</th>\n",
       "      <th>1</th>\n",
       "      <th>2</th>\n",
       "    </tr>\n",
       "    <tr>\n",
       "      <th>row_0</th>\n",
       "      <th></th>\n",
       "      <th></th>\n",
       "      <th></th>\n",
       "    </tr>\n",
       "  </thead>\n",
       "  <tbody>\n",
       "    <tr>\n",
       "      <th>0</th>\n",
       "      <td>197</td>\n",
       "      <td>0</td>\n",
       "      <td>0</td>\n",
       "    </tr>\n",
       "    <tr>\n",
       "      <th>1</th>\n",
       "      <td>0</td>\n",
       "      <td>238</td>\n",
       "      <td>0</td>\n",
       "    </tr>\n",
       "    <tr>\n",
       "      <th>2</th>\n",
       "      <td>0</td>\n",
       "      <td>0</td>\n",
       "      <td>192</td>\n",
       "    </tr>\n",
       "  </tbody>\n",
       "</table>\n",
       "</div>"
      ],
      "text/plain": [
       "col_0    0    1    2\n",
       "row_0               \n",
       "0      197    0    0\n",
       "1        0  238    0\n",
       "2        0    0  192"
      ]
     },
     "execution_count": 70,
     "metadata": {},
     "output_type": "execute_result"
    }
   ],
   "source": [
    "pd.crosstab(y_test_labels, predictions)"
   ]
  },
  {
   "cell_type": "markdown",
   "metadata": {},
   "source": [
    "## model with 2 hidden layers and relu function"
   ]
  },
  {
   "cell_type": "code",
   "execution_count": 71,
   "metadata": {},
   "outputs": [
    {
     "name": "stdout",
     "output_type": "stream",
     "text": [
      "Train on 2840 samples, validate on 711 samples\n",
      "Epoch 1/15\n",
      "0s - loss: 0.8917 - acc: 0.5694 - val_loss: 0.5594 - val_acc: 0.7876\n",
      "Epoch 2/15\n",
      "0s - loss: 0.5211 - acc: 0.7764 - val_loss: 0.3749 - val_acc: 0.8129\n",
      "Epoch 3/15\n",
      "0s - loss: 0.3577 - acc: 0.8475 - val_loss: 0.3035 - val_acc: 0.8312\n",
      "Epoch 4/15\n",
      "0s - loss: 0.2757 - acc: 0.8842 - val_loss: 0.2127 - val_acc: 0.9015\n",
      "Epoch 5/15\n",
      "0s - loss: 0.2270 - acc: 0.9081 - val_loss: 0.1369 - val_acc: 0.9733\n",
      "Epoch 6/15\n",
      "0s - loss: 0.2037 - acc: 0.9197 - val_loss: 0.1385 - val_acc: 0.9451\n",
      "Epoch 7/15\n",
      "0s - loss: 0.1708 - acc: 0.9306 - val_loss: 1.3291 - val_acc: 0.6414\n",
      "Epoch 8/15\n",
      "0s - loss: 0.1705 - acc: 0.9282 - val_loss: 0.0841 - val_acc: 0.9831\n",
      " 32/627 [>.............................] - ETA: 0s"
     ]
    }
   ],
   "source": [
    "model5 = Sequential()\n",
    "model5.add(Dense(512, activation='relu', input_shape = (9,)))\n",
    "model5.add(Dense(300, activation='relu'))\n",
    "model5.add(Dense(3, activation='softmax'))\n",
    "model5.compile('rmsprop', loss='categorical_crossentropy', metrics=['accuracy'])\n",
    "model_fit = model5.fit(x_train, y_train, batch_size=20, epochs=15, verbose=2, validation_split= 0.2, callbacks = call_backs)\n",
    "predictions = model1.predict_classes(x_test)\n",
    "model5.evaluate(x_test, y_test)\n",
    "model5_acc = (model_fit.history['acc'][-1], model5.evaluate(x_test, y_test)[1])\n",
    "models_acc['model5'] = model5_acc"
   ]
  },
  {
   "cell_type": "code",
   "execution_count": 72,
   "metadata": {},
   "outputs": [
    {
     "data": {
      "image/png": "[encoded data removed]",
      "text/plain": [
       "<matplotlib.figure.Figure at 0x7fe0639aa780>"
      ]
     },
     "metadata": {},
     "output_type": "display_data"
    }
   ],
   "source": [
    "plt.plot(model_fit.epoch, model_fit.history['val_acc'])\n",
    "plt.plot(model_fit.epoch, model_fit.history['acc'])\n",
    "plt.legend(['validation accuracy', 'accuracy'])\n",
    "plt.show()"
   ]
  },
  {
   "cell_type": "code",
   "execution_count": 73,
   "metadata": {},
   "outputs": [
    {
     "data": {
      "text/html": [
       "<div>\n",
       "<table border=\"1\" class=\"dataframe\">\n",
       "  <thead>\n",
       "    <tr style=\"text-align: right;\">\n",
       "      <th>col_0</th>\n",
       "      <th>0</th>\n",
       "      <th>1</th>\n",
       "      <th>2</th>\n",
       "    </tr>\n",
       "    <tr>\n",
       "      <th>row_0</th>\n",
       "      <th></th>\n",
       "      <th></th>\n",
       "      <th></th>\n",
       "    </tr>\n",
       "  </thead>\n",
       "  <tbody>\n",
       "    <tr>\n",
       "      <th>0</th>\n",
       "      <td>197</td>\n",
       "      <td>0</td>\n",
       "      <td>0</td>\n",
       "    </tr>\n",
       "    <tr>\n",
       "      <th>1</th>\n",
       "      <td>0</td>\n",
       "      <td>238</td>\n",
       "      <td>0</td>\n",
       "    </tr>\n",
       "    <tr>\n",
       "      <th>2</th>\n",
       "      <td>0</td>\n",
       "      <td>0</td>\n",
       "      <td>192</td>\n",
       "    </tr>\n",
       "  </tbody>\n",
       "</table>\n",
       "</div>"
      ],
      "text/plain": [
       "col_0    0    1    2\n",
       "row_0               \n",
       "0      197    0    0\n",
       "1        0  238    0\n",
       "2        0    0  192"
      ]
     },
     "execution_count": 73,
     "metadata": {},
     "output_type": "execute_result"
    }
   ],
   "source": [
    "pd.crosstab(y_test_labels, predictions)"
   ]
  },
  {
   "cell_type": "markdown",
   "metadata": {},
   "source": [
    "## model with 10 hidden layers"
   ]
  },
  {
   "cell_type": "code",
   "execution_count": 74,
   "metadata": {},
   "outputs": [
    {
     "name": "stdout",
     "output_type": "stream",
     "text": [
      "Train on 2840 samples, validate on 711 samples\n",
      "Epoch 1/15\n",
      "4s - loss: 1.2978 - acc: 0.3285 - val_loss: 1.0920 - val_acc: 0.3952\n",
      "Epoch 2/15\n",
      "4s - loss: 1.1674 - acc: 0.3359 - val_loss: 1.1190 - val_acc: 0.3193\n",
      "Epoch 3/15\n",
      "4s - loss: 1.1285 - acc: 0.3489 - val_loss: 1.0915 - val_acc: 0.3952\n",
      "Epoch 4/15\n",
      "4s - loss: 1.1208 - acc: 0.3261 - val_loss: 1.1019 - val_acc: 0.2855\n",
      "Epoch 5/15\n",
      "5s - loss: 1.1076 - acc: 0.3405 - val_loss: 1.1129 - val_acc: 0.2855\n",
      "608/627 [============================>.] - ETA: 0s"
     ]
    }
   ],
   "source": [
    "model6 = Sequential()\n",
    "model6.add(Dense(512, activation='sigmoid', input_shape = (9,)))\n",
    "model6.add(Dense(512, activation='sigmoid'))\n",
    "model6.add(Dropout(0.5))\n",
    "model6.add(Dense(512, activation='sigmoid'))\n",
    "model6.add(Dropout(0.5))\n",
    "model6.add(Dense(512, activation='sigmoid'))\n",
    "model6.add(Dropout(0.5))\n",
    "model6.add(Dense(512, activation='sigmoid'))\n",
    "model6.add(Dropout(0.5))\n",
    "model6.add(Dense(512, activation='sigmoid'))\n",
    "model6.add(Dropout(0.5))\n",
    "model6.add(Dense(512, activation='sigmoid'))\n",
    "model6.add(Dropout(0.5))\n",
    "model6.add(Dense(512, activation='sigmoid'))\n",
    "model6.add(Dropout(0.5))\n",
    "model6.add(Dense(512, activation='sigmoid'))\n",
    "model6.add(Dropout(0.5))\n",
    "model6.add(Dense(512, activation='sigmoid'))\n",
    "model6.add(Dropout(0.5))\n",
    "model6.add(Dense(3, activation='softmax'))\n",
    "model6.compile('rmsprop', loss='categorical_crossentropy', metrics=['accuracy'])\n",
    "model_fit = model6.fit(x_train, y_train, batch_size=20, epochs=15, verbose=2, validation_split=0.2, callbacks=call_backs)\n",
    "predictions = model1.predict_classes(x_test)\n",
    "model6.evaluate(x_test, y_test)\n",
    "model6_acc = (model_fit.history['acc'][-1], model6.evaluate(x_test, y_test)[1])\n",
    "models_acc['model6'] = model6_acc"
   ]
  },
  {
   "cell_type": "code",
   "execution_count": 75,
   "metadata": {},
   "outputs": [
    {
     "data": {
      "image/png": "[encoded data removed]",
      "text/plain": [
       "<matplotlib.figure.Figure at 0x7fe063c819b0>"
      ]
     },
     "metadata": {},
     "output_type": "display_data"
    }
   ],
   "source": [
    "plt.plot(model_fit.epoch, model_fit.history['val_acc'])\n",
    "plt.plot(model_fit.epoch, model_fit.history['acc'])\n",
    "plt.legend(['validation accuracy', 'accuracy'])\n",
    "plt.show()"
   ]
  },
  {
   "cell_type": "code",
   "execution_count": 76,
   "metadata": {},
   "outputs": [
    {
     "data": {
      "text/plain": [
       "<matplotlib.axes._subplots.AxesSubplot at 0x7fe0633115c0>"
      ]
     },
     "execution_count": 76,
     "metadata": {},
     "output_type": "execute_result"
    },
    {
     "data": {
      "image/png": "[encoded data removed]",
      "text/plain": [
       "<matplotlib.figure.Figure at 0x7fe06331cdd8>"
      ]
     },
     "metadata": {},
     "output_type": "display_data"
    }
   ],
   "source": [
    "df_data = pd.DataFrame.from_dict(models_acc, orient='index')\n",
    "df_data.columns = ['train_acc', 'test_acc']\n",
    "df_data.plot(kind='bar')"
   ]
  },
  {
   "cell_type": "code",
   "execution_count": 126,
   "metadata": {},
   "outputs": [
    {
     "data": {
      "text/plain": [
       "6"
      ]
     },
     "execution_count": 126,
     "metadata": {},
     "output_type": "execute_result"
    }
   ],
   "source": [
    "len(model2.get_weights())"
   ]
  },
  {
   "cell_type": "code",
   "execution_count": 167,
   "metadata": {
    "collapsed": true
   },
   "outputs": [],
   "source": [
    "def sigmoid(z):\n",
    "    return 1/(1+np.exp(-z))"
   ]
  },
  {
   "cell_type": "code",
   "execution_count": 168,
   "metadata": {
    "collapsed": true
   },
   "outputs": [],
   "source": [
    "def softmax(z_layer):\n",
    "    s = np.sum(sigmoid(z_layer))\n",
    "    return sigmoid(z_layer)/s"
   ]
  },
  {
   "cell_type": "code",
   "execution_count": 190,
   "metadata": {
    "collapsed": true
   },
   "outputs": [],
   "source": [
    "#taking weights from trained model and checking whether the predictions from the model and self computing are same or not\n",
    "activations = []\n",
    "for x in x_test:\n",
    "    activation = x\n",
    "    for i in range(0, len(model2.get_weights()), 2):#it contains weights and biases\n",
    "        weights = np.array(model2.get_weights()[i])\n",
    "        bias = model2.get_weights()[i+1]\n",
    "        z = weights.T.dot(activation) + bias\n",
    "        #for last layer we use softmax function\n",
    "        if i<len(model2.get_weights())-2:\n",
    "            activation = sigmoid(z)\n",
    "        else:\n",
    "            activation = softmax(z)#gives probability for all 3 classes\n",
    "    #selecting the index of class with max probability\n",
    "    #the index will be the label itself as we have labelled the classes that way\n",
    "    activations.append(np.argmax(activation)) #contains predicted labels  \n",
    "#checking for what values there is a mismatch\n",
    "for i, j, k in zip(y_test_labels, activations, range(len(y_test_labels))):    \n",
    "    if i!=j:\n",
    "        print(i, j, k+1)"
   ]
  },
  {
   "cell_type": "code",
   "execution_count": null,
   "metadata": {
    "collapsed": true
   },
   "outputs": [],
   "source": []
  }
 ],
 "metadata": {
  "kernelspec": {
   "display_name": "Python 3",
   "language": "python",
   "name": "python3"
  },
  "language_info": {
   "codemirror_mode": {
    "name": "ipython",
    "version": 3
   },
   "file_extension": ".py",
   "mimetype": "text/x-python",
   "name": "python",
   "nbconvert_exporter": "python",
   "pygments_lexer": "ipython3",
   "version": "3.5.2"
  }
 },
 "nbformat": 4,
 "nbformat_minor": 2
}
